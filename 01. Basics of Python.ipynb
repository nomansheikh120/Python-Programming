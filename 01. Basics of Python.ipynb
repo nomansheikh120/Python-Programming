{
 "cells": [
  {
   "cell_type": "markdown",
   "id": "57ae65b0",
   "metadata": {},
   "source": [
    "### 1. Getting Started"
   ]
  },
  {
   "cell_type": "code",
   "execution_count": 1,
   "id": "f1a0276a",
   "metadata": {},
   "outputs": [
    {
     "name": "stdout",
     "output_type": "stream",
     "text": [
      "Hellow Word\n"
     ]
    }
   ],
   "source": [
    "print(\"Hellow Word\")"
   ]
  },
  {
   "cell_type": "code",
   "execution_count": 4,
   "id": "2c36d09b",
   "metadata": {},
   "outputs": [
    {
     "name": "stdout",
     "output_type": "stream",
     "text": [
      "Noman-25-5000.0\n"
     ]
    }
   ],
   "source": [
    "print(\"Noman\",25, 5000.0, sep=\"-\")"
   ]
  },
  {
   "cell_type": "code",
   "execution_count": 7,
   "id": "0d1112cc",
   "metadata": {},
   "outputs": [
    {
     "name": "stdout",
     "output_type": "stream",
     "text": [
      "Noman 25 5000.0\n"
     ]
    }
   ],
   "source": [
    "print(\"Noman\", end=\" \")\n",
    "print(25, end=\" \")\n",
    "print(5000.0)"
   ]
  },
  {
   "cell_type": "markdown",
   "id": "51c360da",
   "metadata": {},
   "source": [
    "### 2. Data Types"
   ]
  },
  {
   "cell_type": "markdown",
   "id": "d5f0ca31",
   "metadata": {},
   "source": [
    "###### Python supports 3 categories of Data Types:\n",
    "* Basic - Int, Float, Complex, Boolean, String\n",
    "* Container Types - List,  Tuple, Sets, Dictionary\n",
    "* User-Defined - Class"
   ]
  },
  {
   "cell_type": "code",
   "execution_count": 10,
   "id": "c3b16cea",
   "metadata": {},
   "outputs": [
    {
     "name": "stdout",
     "output_type": "stream",
     "text": [
      "4\n",
      "1e+308\n",
      "inf\n"
     ]
    }
   ],
   "source": [
    "# Int\n",
    "print(4)\n",
    "print(1e308) # Int Range\n",
    "print(1e309)"
   ]
  },
  {
   "cell_type": "code",
   "execution_count": 12,
   "id": "7d6651ac",
   "metadata": {},
   "outputs": [
    {
     "name": "stdout",
     "output_type": "stream",
     "text": [
      "4.5\n",
      "1.7e+308\n",
      "inf\n"
     ]
    }
   ],
   "source": [
    "# Float\n",
    "print(4.5)\n",
    "print(1.7e308)\n",
    "print(1.7e309)"
   ]
  },
  {
   "cell_type": "code",
   "execution_count": 13,
   "id": "6481844b",
   "metadata": {},
   "outputs": [
    {
     "name": "stdout",
     "output_type": "stream",
     "text": [
      "True\n",
      "False\n"
     ]
    }
   ],
   "source": [
    "# Boolean \n",
    "print(True)\n",
    "print(False)"
   ]
  },
  {
   "cell_type": "code",
   "execution_count": 14,
   "id": "723a7b24",
   "metadata": {},
   "outputs": [
    {
     "name": "stdout",
     "output_type": "stream",
     "text": [
      "(4+5j)\n"
     ]
    }
   ],
   "source": [
    "# Complex\n",
    "print(4+5j)"
   ]
  },
  {
   "cell_type": "code",
   "execution_count": 15,
   "id": "bcd35f63",
   "metadata": {},
   "outputs": [
    {
     "name": "stdout",
     "output_type": "stream",
     "text": [
      "Noman\n",
      "Khalil\n",
      "Uddin\n"
     ]
    }
   ],
   "source": [
    "# String\n",
    "print('Noman')\n",
    "print(\"Khalil\")\n",
    "print(\"\"\"Uddin\"\"\")"
   ]
  },
  {
   "cell_type": "code",
   "execution_count": 17,
   "id": "5937d952",
   "metadata": {},
   "outputs": [
    {
     "name": "stdout",
     "output_type": "stream",
     "text": [
      "[1, 2, 3, 4, 5]\n"
     ]
    }
   ],
   "source": [
    "# List\n",
    "print([1,2,3,4,5])"
   ]
  },
  {
   "cell_type": "code",
   "execution_count": 18,
   "id": "4bfd0285",
   "metadata": {},
   "outputs": [
    {
     "name": "stdout",
     "output_type": "stream",
     "text": [
      "(1, 2, 3, 4, 5)\n"
     ]
    }
   ],
   "source": [
    "# Tuple\n",
    "print((1,2,3,4,5))"
   ]
  },
  {
   "cell_type": "code",
   "execution_count": 19,
   "id": "2b989c68",
   "metadata": {},
   "outputs": [
    {
     "name": "stdout",
     "output_type": "stream",
     "text": [
      "{1, 2, 3, 4, 5}\n"
     ]
    }
   ],
   "source": [
    "# Set\n",
    "print({1,2,3,4,5})"
   ]
  },
  {
   "cell_type": "code",
   "execution_count": 20,
   "id": "78af076f",
   "metadata": {},
   "outputs": [
    {
     "name": "stdout",
     "output_type": "stream",
     "text": [
      "{'Name': 'Noman', 'Age': 40, 'Salary': 70000.0}\n"
     ]
    }
   ],
   "source": [
    "# Dictionary\n",
    "print({\"Name\": \"Noman\", \"Age\":40, \"Salary\": 70000.0})"
   ]
  },
  {
   "cell_type": "markdown",
   "id": "e7a80b51",
   "metadata": {},
   "source": [
    "### 3. Comments"
   ]
  },
  {
   "cell_type": "code",
   "execution_count": 21,
   "id": "efa53f90",
   "metadata": {},
   "outputs": [],
   "source": [
    "# this is a comment"
   ]
  },
  {
   "cell_type": "code",
   "execution_count": 22,
   "id": "3b6f1c40",
   "metadata": {},
   "outputs": [],
   "source": [
    "# this is multiline comment\n",
    "# this is multiline comment\n",
    "# this is multiline comment"
   ]
  },
  {
   "cell_type": "markdown",
   "id": "990c2372",
   "metadata": {},
   "source": [
    "### 4. Variables"
   ]
  },
  {
   "cell_type": "code",
   "execution_count": 23,
   "id": "0ad82f60",
   "metadata": {},
   "outputs": [],
   "source": [
    "# Dynamic Typing (No vaiable Declaration or specify the data type)\n",
    "name = \"Noman\"\n",
    "print(name)"
   ]
  },
  {
   "cell_type": "code",
   "execution_count": 25,
   "id": "e0b626b5",
   "metadata": {},
   "outputs": [
    {
     "name": "stdout",
     "output_type": "stream",
     "text": [
      "4\n"
     ]
    }
   ],
   "source": [
    "# Dynamic Binding (No restriction of similar data type)\n",
    "name = \"Noman\"\n",
    "name = 4\n",
    "print(name)"
   ]
  },
  {
   "cell_type": "code",
   "execution_count": 31,
   "id": "113356d3",
   "metadata": {},
   "outputs": [
    {
     "name": "stdout",
     "output_type": "stream",
     "text": [
      "5 6 7\n",
      "Noman 24 70000.0\n",
      "6 6 6\n"
     ]
    }
   ],
   "source": [
    "# Special Declaration\n",
    "a = 5 ; b = 6 ; c = 7\n",
    "print(a,b,c)\n",
    "\n",
    "name, age, salary = \"Noman\", 24, 70000.0\n",
    "print(name, age, salary)\n",
    "\n",
    "a = b = c = 6\n",
    "print(a,b,c)"
   ]
  },
  {
   "cell_type": "markdown",
   "id": "ec07aa40",
   "metadata": {},
   "source": [
    "### 5. Keywords\n",
    "Keywords are predefined or reserved words that have special meanings to the compiler. These are part of the syntax and cannot be used in the program."
   ]
  },
  {
   "cell_type": "code",
   "execution_count": 32,
   "id": "8d8425bd",
   "metadata": {},
   "outputs": [],
   "source": [
    "import keyword"
   ]
  },
  {
   "cell_type": "code",
   "execution_count": 36,
   "id": "6033a2c4",
   "metadata": {},
   "outputs": [
    {
     "name": "stdout",
     "output_type": "stream",
     "text": [
      "['False', 'None', 'True', 'and', 'as', 'assert', 'async', 'await', 'break', 'class', 'continue', 'def', 'del', 'elif', 'else', 'except', 'finally', 'for', 'from', 'global', 'if', 'import', 'in', 'is', 'lambda', 'nonlocal', 'not', 'or', 'pass', 'raise', 'return', 'try', 'while', 'with', 'yield']\n"
     ]
    }
   ],
   "source": [
    "print(keyword.kwlist)"
   ]
  },
  {
   "cell_type": "code",
   "execution_count": 38,
   "id": "b7abc9bd",
   "metadata": {},
   "outputs": [
    {
     "data": {
      "text/plain": [
       "35"
      ]
     },
     "execution_count": 38,
     "metadata": {},
     "output_type": "execute_result"
    }
   ],
   "source": [
    "# Total Keywords in Python\n",
    "len(keyword.kwlist)"
   ]
  },
  {
   "cell_type": "markdown",
   "id": "0fbd5899",
   "metadata": {},
   "source": [
    "### 6. Identifiers\n",
    "An identifier is a sequence of characters used to identify a variable, function, class, module, or any other user-defined item.\n",
    "* Can only start with and alphabet _\n",
    "* Followed by zero or more letter, _ and digits\n",
    "* Keywords connot be used as an identifiers"
   ]
  },
  {
   "cell_type": "code",
   "execution_count": 39,
   "id": "8d4cae2a",
   "metadata": {},
   "outputs": [],
   "source": [
    "name = \"Noman\""
   ]
  },
  {
   "cell_type": "code",
   "execution_count": 41,
   "id": "b2999322",
   "metadata": {},
   "outputs": [],
   "source": [
    "# False = \"Noman\" - error"
   ]
  },
  {
   "cell_type": "markdown",
   "id": "926c0f33",
   "metadata": {},
   "source": [
    "### 7. User Input"
   ]
  },
  {
   "cell_type": "code",
   "execution_count": 43,
   "id": "24e2a186",
   "metadata": {},
   "outputs": [
    {
     "name": "stdout",
     "output_type": "stream",
     "text": [
      "Enter your name: Noman\n"
     ]
    },
    {
     "data": {
      "text/plain": [
       "'Noman'"
      ]
     },
     "execution_count": 43,
     "metadata": {},
     "output_type": "execute_result"
    }
   ],
   "source": [
    "input(prompt = \"Enter your name: \")"
   ]
  },
  {
   "cell_type": "code",
   "execution_count": 46,
   "id": "d8235fbb",
   "metadata": {},
   "outputs": [
    {
     "name": "stdout",
     "output_type": "stream",
     "text": [
      "Enter first num: 56\n",
      "Enter second num: 27\n",
      "5627\n"
     ]
    }
   ],
   "source": [
    "first_num = input(\"Enter first num: \")\n",
    "second_num = input(\"Enter second num: \")\n",
    "result = first_num + second_num\n",
    "print(result) # input funtion always return string"
   ]
  },
  {
   "cell_type": "markdown",
   "id": "6f3cbde0",
   "metadata": {},
   "source": [
    "### 8. Type Conversion\n",
    "* Implicit: Data type conversion takes place during compilation or during the runtime.\n",
    "* Explicit: User convert the data type of an object to required data type."
   ]
  },
  {
   "cell_type": "code",
   "execution_count": 47,
   "id": "9276f400",
   "metadata": {},
   "outputs": [
    {
     "data": {
      "text/plain": [
       "str"
      ]
     },
     "execution_count": 47,
     "metadata": {},
     "output_type": "execute_result"
    }
   ],
   "source": [
    "type(result)"
   ]
  },
  {
   "cell_type": "code",
   "execution_count": 48,
   "id": "9e2ca9e0",
   "metadata": {},
   "outputs": [
    {
     "name": "stdout",
     "output_type": "stream",
     "text": [
      "<class 'str'> <class 'str'>\n"
     ]
    }
   ],
   "source": [
    "print(type(first_num), type(second_num))"
   ]
  },
  {
   "cell_type": "code",
   "execution_count": 49,
   "id": "eb3e2dd8",
   "metadata": {},
   "outputs": [
    {
     "data": {
      "text/plain": [
       "56"
      ]
     },
     "execution_count": 49,
     "metadata": {},
     "output_type": "execute_result"
    }
   ],
   "source": [
    "# int\n",
    "int(\"56\")"
   ]
  },
  {
   "cell_type": "code",
   "execution_count": 50,
   "id": "b968f1f1",
   "metadata": {},
   "outputs": [
    {
     "data": {
      "text/plain": [
       "23.0"
      ]
     },
     "execution_count": 50,
     "metadata": {},
     "output_type": "execute_result"
    }
   ],
   "source": [
    "# float\n",
    "float(\"23\")"
   ]
  },
  {
   "cell_type": "code",
   "execution_count": 53,
   "id": "fcc30a19",
   "metadata": {},
   "outputs": [
    {
     "data": {
      "text/plain": [
       "5"
      ]
     },
     "execution_count": 53,
     "metadata": {},
     "output_type": "execute_result"
    }
   ],
   "source": [
    "int(float(\"5.6\"))"
   ]
  },
  {
   "cell_type": "code",
   "execution_count": 55,
   "id": "abdb6200",
   "metadata": {},
   "outputs": [
    {
     "name": "stdout",
     "output_type": "stream",
     "text": [
      "4\n",
      "4.5\n",
      "4\n"
     ]
    }
   ],
   "source": [
    "a = 4.5\n",
    "print(int(a))\n",
    "print(a)\n",
    "a = int(a)\n",
    "print(a)"
   ]
  },
  {
   "cell_type": "code",
   "execution_count": 56,
   "id": "2550b5ca",
   "metadata": {},
   "outputs": [
    {
     "name": "stdout",
     "output_type": "stream",
     "text": [
      "Enter first num: 56\n",
      "Enter second num: 28\n",
      "84\n"
     ]
    }
   ],
   "source": [
    "first_num = input(\"Enter first num: \")\n",
    "second_num = input(\"Enter second num: \")\n",
    "result = int(first_num) + int(second_num)\n",
    "print(result) # input funtion always return string"
   ]
  },
  {
   "cell_type": "code",
   "execution_count": 57,
   "id": "35f7447c",
   "metadata": {},
   "outputs": [
    {
     "name": "stdout",
     "output_type": "stream",
     "text": [
      "Enter first num: 67\n",
      "Enter second num: 28\n",
      "95\n"
     ]
    }
   ],
   "source": [
    "first_num = int(input(\"Enter first num: \"))\n",
    "second_num = int(input(\"Enter second num: \"))\n",
    "result = first_num + second_num\n",
    "print(result) # input funtion always return string"
   ]
  }
 ],
 "metadata": {
  "kernelspec": {
   "display_name": "Python 3",
   "language": "python",
   "name": "python3"
  },
  "language_info": {
   "codemirror_mode": {
    "name": "ipython",
    "version": 3
   },
   "file_extension": ".py",
   "mimetype": "text/x-python",
   "name": "python",
   "nbconvert_exporter": "python",
   "pygments_lexer": "ipython3",
   "version": "3.8.8"
  }
 },
 "nbformat": 4,
 "nbformat_minor": 5
}
