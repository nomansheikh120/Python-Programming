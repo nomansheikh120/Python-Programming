{
 "cells": [
  {
   "cell_type": "markdown",
   "id": "6ef6d3da",
   "metadata": {},
   "source": [
    "# Literals\n",
    "Literal is a raw data given in a variable. In Python, there are various types of literals they are as follows:\n",
    "* Numeric Literals\n",
    "* String Literals\n",
    "* Boolean Literals\n",
    "* Special Literals"
   ]
  },
  {
   "cell_type": "markdown",
   "id": "750b785d",
   "metadata": {},
   "source": [
    "### 1. Numeric Literals"
   ]
  },
  {
   "cell_type": "code",
   "execution_count": 1,
   "id": "d2c11863",
   "metadata": {},
   "outputs": [
    {
     "name": "stdout",
     "output_type": "stream",
     "text": [
      "10 100 200 300\n",
      "10.5 150.0 0.0015\n",
      "3.14j 3.14 0.0\n"
     ]
    }
   ],
   "source": [
    "a = 0b1010 #Binary Literals\n",
    "b = 100    #Decimal Literal \n",
    "c = 0o310  #Octal Literal\n",
    "d = 0x12c  #Hexadecimal Literal\n",
    "\n",
    "#Float Literal\n",
    "float_1 = 10.5 \n",
    "float_2 = 1.5e2\n",
    "float_3 = 1.5e-3\n",
    "\n",
    "#Complex Literal \n",
    "x = 3.14j\n",
    "\n",
    "print(a, b, c, d)\n",
    "print(float_1, float_2,float_3)\n",
    "print(x, x.imag, x.real)"
   ]
  },
  {
   "cell_type": "markdown",
   "id": "e88f8028",
   "metadata": {},
   "source": [
    "### 2. String Literals"
   ]
  },
  {
   "cell_type": "code",
   "execution_count": 2,
   "id": "a7a0078a",
   "metadata": {},
   "outputs": [
    {
     "name": "stdout",
     "output_type": "stream",
     "text": [
      "This is Python\n",
      "This is Python\n",
      "C\n",
      "This is a multiline string with more than one line code.\n",
      "😀😆🤣\n",
      "raw \\n string\n"
     ]
    }
   ],
   "source": [
    "string = 'This is Python'\n",
    "strings = \"This is Python\"\n",
    "char = \"C\"\n",
    "multiline_str = \"\"\"This is a multiline string with more than one line code.\"\"\"\n",
    "unicode = u\"\\U0001f600\\U0001F606\\U0001F923\"\n",
    "raw_str = r\"raw \\n string\"\n",
    "\n",
    "print(string)\n",
    "print(strings)\n",
    "print(char)\n",
    "print(multiline_str)\n",
    "print(unicode)\n",
    "print(raw_str)"
   ]
  },
  {
   "cell_type": "markdown",
   "id": "00afbcee",
   "metadata": {},
   "source": [
    "### 3. Boolean Literal"
   ]
  },
  {
   "cell_type": "code",
   "execution_count": 3,
   "id": "57aedb9b",
   "metadata": {},
   "outputs": [
    {
     "name": "stdout",
     "output_type": "stream",
     "text": [
      "a: 5\n",
      "b: 10\n"
     ]
    }
   ],
   "source": [
    "a = True + 4\n",
    "b = False + 10\n",
    "\n",
    "print(\"a:\", a)\n",
    "print(\"b:\", b)"
   ]
  },
  {
   "cell_type": "markdown",
   "id": "5543195e",
   "metadata": {},
   "source": [
    "### 4. Special Literal"
   ]
  },
  {
   "cell_type": "code",
   "execution_count": 4,
   "id": "bc63cc10",
   "metadata": {},
   "outputs": [
    {
     "name": "stdout",
     "output_type": "stream",
     "text": [
      "None\n"
     ]
    }
   ],
   "source": [
    "a = None # absence of any thing (Declare for future use)\n",
    "print(a)"
   ]
  },
  {
   "cell_type": "markdown",
   "id": "a770b086",
   "metadata": {},
   "source": [
    "# Operators\n",
    "Operators are used to perform operations on variables and values. Python has the following operators:\n",
    "* Arithmetic operators\n",
    "* Comparison operators\n",
    "* Logical operators\n",
    "* Bitwise operators\n",
    "* Assignment operators\n",
    "* Special Assignment operators\n",
    "* Identity operators\n",
    "* Membership operators"
   ]
  },
  {
   "cell_type": "code",
   "execution_count": 5,
   "id": "834dacaa",
   "metadata": {},
   "outputs": [],
   "source": [
    "x = 5\n",
    "y = 2"
   ]
  },
  {
   "cell_type": "code",
   "execution_count": 6,
   "id": "8ea32212",
   "metadata": {},
   "outputs": [
    {
     "name": "stdout",
     "output_type": "stream",
     "text": [
      "Addition: 7\n",
      "Subtraction: 3\n",
      "Multiplication: 10\n",
      "Division: 2.5\n",
      "Modulus: 1\n",
      "Exponent: 25\n",
      "Int Division: 2\n"
     ]
    }
   ],
   "source": [
    "# Arithmetic operators\n",
    "print(\"Addition:\",x + y)\n",
    "print(\"Subtraction:\",x - y)\n",
    "print(\"Multiplication:\",x * y)\n",
    "print(\"Division:\",x/y)\n",
    "print(\"Modulus:\",x%y)\n",
    "print(\"Exponent:\",x ** y)\n",
    "print(\"Int Division:\", x // 2)"
   ]
  },
  {
   "cell_type": "code",
   "execution_count": 7,
   "id": "9ecfb801",
   "metadata": {},
   "outputs": [
    {
     "name": "stdout",
     "output_type": "stream",
     "text": [
      "Greater than: True\n",
      "Lesser than: False\n",
      "Greater than or equals to: True\n",
      "Lesser than or equals to: False\n",
      "Equals to: False\n",
      "Not equals to: True\n"
     ]
    }
   ],
   "source": [
    "# Comparison operators\n",
    "print(\"Greater than:\",x > y)\n",
    "print(\"Lesser than:\",x < y)\n",
    "print(\"Greater than or equals to:\",x >= y)\n",
    "print(\"Lesser than or equals to:\",x <= y)\n",
    "print(\"Equals to:\",x == y)\n",
    "print(\"Not equals to:\",x != y)"
   ]
  },
  {
   "cell_type": "code",
   "execution_count": 8,
   "id": "4a93b242",
   "metadata": {},
   "outputs": [],
   "source": [
    "# Logical Operators\n",
    "x = True \n",
    "y = False"
   ]
  },
  {
   "cell_type": "code",
   "execution_count": 9,
   "id": "b2e94097",
   "metadata": {},
   "outputs": [
    {
     "name": "stdout",
     "output_type": "stream",
     "text": [
      "True\n",
      "False\n",
      "True\n"
     ]
    }
   ],
   "source": [
    "print(x or y)\n",
    "print(x and y)\n",
    "print(not y)"
   ]
  },
  {
   "cell_type": "code",
   "execution_count": 10,
   "id": "825d3352",
   "metadata": {},
   "outputs": [],
   "source": [
    "# Bitwise\n",
    "x = 2\n",
    "y = 3"
   ]
  },
  {
   "cell_type": "code",
   "execution_count": 11,
   "id": "11d9bb68",
   "metadata": {},
   "outputs": [
    {
     "name": "stdout",
     "output_type": "stream",
     "text": [
      "2\n"
     ]
    }
   ],
   "source": [
    "# & --> and\n",
    "\n",
    "# 010 : 2\n",
    "# 110 : 3\n",
    "# --------\n",
    "# 010 = 2\n",
    "\n",
    "print(x & y)"
   ]
  },
  {
   "cell_type": "code",
   "execution_count": 12,
   "id": "acaf74d8",
   "metadata": {},
   "outputs": [
    {
     "name": "stdout",
     "output_type": "stream",
     "text": [
      "3\n"
     ]
    }
   ],
   "source": [
    "# | --> or\n",
    "\n",
    "# 010 : 2\n",
    "# 110 : 3\n",
    "# --------\n",
    "# 110 = 3\n",
    "\n",
    "print(x | y)"
   ]
  },
  {
   "cell_type": "code",
   "execution_count": 13,
   "id": "5b66fa9d",
   "metadata": {},
   "outputs": [
    {
     "name": "stdout",
     "output_type": "stream",
     "text": [
      "0\n",
      "8\n",
      "-3\n"
     ]
    }
   ],
   "source": [
    "print(x >> 2)\n",
    "print(x << 2)\n",
    "print(~x)"
   ]
  },
  {
   "cell_type": "code",
   "execution_count": 14,
   "id": "4566f9f0",
   "metadata": {},
   "outputs": [
    {
     "name": "stdout",
     "output_type": "stream",
     "text": [
      "3\n"
     ]
    }
   ],
   "source": [
    "# Assignment\n",
    "a = 3\n",
    "print(a)"
   ]
  },
  {
   "cell_type": "code",
   "execution_count": 15,
   "id": "13a15c3f",
   "metadata": {},
   "outputs": [
    {
     "name": "stdout",
     "output_type": "stream",
     "text": [
      "6\n"
     ]
    }
   ],
   "source": [
    "# Special Assignment operators\n",
    "a += 3\n",
    "# a = a + 3\n",
    "print(a)"
   ]
  },
  {
   "cell_type": "code",
   "execution_count": 16,
   "id": "444f08a7",
   "metadata": {},
   "outputs": [
    {
     "name": "stdout",
     "output_type": "stream",
     "text": [
      "True\n"
     ]
    }
   ],
   "source": [
    "# Identity operators\n",
    "a = \"Hello\"\n",
    "b = \"Hello\"\n",
    "\n",
    "print(a is b)"
   ]
  },
  {
   "cell_type": "code",
   "execution_count": 17,
   "id": "6027e7a1",
   "metadata": {},
   "outputs": [
    {
     "name": "stdout",
     "output_type": "stream",
     "text": [
      "True\n"
     ]
    }
   ],
   "source": [
    "a = \"Hello-world\"\n",
    "b = \"Hello-world\"\n",
    "\n",
    "print(a is not b)"
   ]
  },
  {
   "cell_type": "code",
   "execution_count": 18,
   "id": "4d9a654e",
   "metadata": {},
   "outputs": [
    {
     "name": "stdout",
     "output_type": "stream",
     "text": [
      "False\n"
     ]
    }
   ],
   "source": [
    "a = [1,2,3]\n",
    "b = [1,2,3]\n",
    "\n",
    "print(a is b)"
   ]
  },
  {
   "cell_type": "code",
   "execution_count": 19,
   "id": "3b11592a",
   "metadata": {},
   "outputs": [
    {
     "name": "stdout",
     "output_type": "stream",
     "text": [
      "False\n"
     ]
    }
   ],
   "source": [
    "# Membership Operator\n",
    "x = \"Delhi\"\n",
    "\n",
    "print(\"D\" not in x)"
   ]
  }
 ],
 "metadata": {
  "kernelspec": {
   "display_name": "Python 3",
   "language": "python",
   "name": "python3"
  },
  "language_info": {
   "codemirror_mode": {
    "name": "ipython",
    "version": 3
   },
   "file_extension": ".py",
   "mimetype": "text/x-python",
   "name": "python",
   "nbconvert_exporter": "python",
   "pygments_lexer": "ipython3",
   "version": "3.8.8"
  }
 },
 "nbformat": 4,
 "nbformat_minor": 5
}
