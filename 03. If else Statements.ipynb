{
 "cells": [
  {
   "cell_type": "markdown",
   "id": "2671f6e2",
   "metadata": {},
   "source": [
    "### 1. IF-ELSE"
   ]
  },
  {
   "cell_type": "code",
   "execution_count": 5,
   "id": "3ccdeeb4",
   "metadata": {},
   "outputs": [
    {
     "name": "stdout",
     "output_type": "stream",
     "text": [
      "Enter your email: noman@gamil.com\n",
      "Enter your password: 12344\n",
      "Incorrect Credentials\n"
     ]
    }
   ],
   "source": [
    "email = input(\"Enter your email: \")\n",
    "password = input(\"Enter your password: \")\n",
    "\n",
    "if email == \"noman@gamil.com\" and password == \"1234\":\n",
    "    print(\"Welcome\")\n",
    "else:\n",
    "    print(\"Incorrect Credentials\")"
   ]
  },
  {
   "cell_type": "code",
   "execution_count": 6,
   "id": "81dc1058",
   "metadata": {},
   "outputs": [
    {
     "name": "stdout",
     "output_type": "stream",
     "text": [
      "Enter your email: noman@gamil.com\n",
      "Enter your password: 1234\n",
      "Welcome\n"
     ]
    }
   ],
   "source": [
    "email = input(\"Enter your email: \")\n",
    "password = input(\"Enter your password: \")\n",
    "\n",
    "if email == \"noman@gamil.com\" and password == \"1234\":\n",
    "    print(\"Welcome\")\n",
    "else:\n",
    "    print(\"Incorrect Credentials\")"
   ]
  },
  {
   "cell_type": "markdown",
   "id": "296fbb1b",
   "metadata": {},
   "source": [
    "### 2. IF-ELIF-ELSE"
   ]
  },
  {
   "cell_type": "code",
   "execution_count": 10,
   "id": "6cf4e56b",
   "metadata": {},
   "outputs": [
    {
     "name": "stdout",
     "output_type": "stream",
     "text": [
      "Enter your email: noman@gamil.com\n",
      "Enter your password: 1233\n",
      "Enter your password again: 1234\n",
      "Finally Welcome\n"
     ]
    }
   ],
   "source": [
    "email = input(\"Enter your email: \")\n",
    "password = input(\"Enter your password: \")\n",
    "\n",
    "if email == \"noman@gamil.com\" and password == \"1234\":\n",
    "    print(\"Welcome\")\n",
    "elif email == \"noman@gamil.com\" and password != \"1234\":    \n",
    "    password = input(\"Enter your password again: \")\n",
    "    if password == \"1234\":\n",
    "        print(\"Finally Welcome\")\n",
    "    else:\n",
    "        print(\"Still Incorrect Credentials\")\n",
    "else:\n",
    "    print(\"Incorrect Credentials\")"
   ]
  }
 ],
 "metadata": {
  "kernelspec": {
   "display_name": "Python 3",
   "language": "python",
   "name": "python3"
  },
  "language_info": {
   "codemirror_mode": {
    "name": "ipython",
    "version": 3
   },
   "file_extension": ".py",
   "mimetype": "text/x-python",
   "name": "python",
   "nbconvert_exporter": "python",
   "pygments_lexer": "ipython3",
   "version": "3.8.8"
  }
 },
 "nbformat": 4,
 "nbformat_minor": 5
}
