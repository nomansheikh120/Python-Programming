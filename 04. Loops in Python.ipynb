{
 "cells": [
  {
   "cell_type": "markdown",
   "id": "96ab578d",
   "metadata": {},
   "source": [
    "### 1. While Loop:"
   ]
  },
  {
   "cell_type": "code",
   "execution_count": 1,
   "id": "3b461774",
   "metadata": {},
   "outputs": [],
   "source": [
    "# while condition:\n",
    "#    statement"
   ]
  },
  {
   "cell_type": "code",
   "execution_count": 2,
   "id": "381b1c80",
   "metadata": {},
   "outputs": [
    {
     "name": "stdout",
     "output_type": "stream",
     "text": [
      "Enter the number5\n",
      "5 x 1 = 5\n",
      "5 x 2 = 10\n",
      "5 x 3 = 15\n",
      "5 x 4 = 20\n",
      "5 x 5 = 25\n",
      "5 x 6 = 30\n",
      "5 x 7 = 35\n",
      "5 x 8 = 40\n",
      "5 x 9 = 45\n",
      "5 x 10 = 50\n"
     ]
    }
   ],
   "source": [
    "number = int(input(\"Enter the number\"))\n",
    "i = 1\n",
    "while i<11:\n",
    "    print(f\"{number} x {i} = {number * i}\")\n",
    "    i+=1"
   ]
  },
  {
   "cell_type": "markdown",
   "id": "d88386d4",
   "metadata": {},
   "source": [
    "### Number Guessing Game with While Lopp"
   ]
  },
  {
   "cell_type": "code",
   "execution_count": 3,
   "id": "44649b5b",
   "metadata": {},
   "outputs": [
    {
     "name": "stdout",
     "output_type": "stream",
     "text": [
      "Guess the Jackpot Nmmber: 50\n",
      "Hurray...! Jackpot with 1 attempts\n"
     ]
    }
   ],
   "source": [
    "import random\n",
    "\n",
    "jackpot = random.randint(1,100)\n",
    "user_input = int(input(\"Guess the Jackpot Nmmber: \"))\n",
    "counter = 1\n",
    "\n",
    "while jackpot != user_input: \n",
    "    if jackpot > user_input:\n",
    "        user_input = int(input(\"Guess Higher: \"))\n",
    "        counter += 1\n",
    "    else:\n",
    "        user_input = int(input(\"Guess Lower: \"))\n",
    "        counter += 1\n",
    "print(f\"Hurray...! Jackpot with {counter} attempts\")"
   ]
  },
  {
   "cell_type": "markdown",
   "id": "9376e891",
   "metadata": {},
   "source": [
    "### 2. For Loop"
   ]
  },
  {
   "cell_type": "code",
   "execution_count": 4,
   "id": "938a580b",
   "metadata": {},
   "outputs": [
    {
     "data": {
      "text/plain": [
       "[0, 1, 2, 3, 4, 5, 6, 7, 8, 9, 10]"
      ]
     },
     "execution_count": 4,
     "metadata": {},
     "output_type": "execute_result"
    }
   ],
   "source": [
    "# range\n",
    "list(range(11))"
   ]
  },
  {
   "cell_type": "code",
   "execution_count": 5,
   "id": "0a1dad09",
   "metadata": {},
   "outputs": [
    {
     "data": {
      "text/plain": [
       "[1, 2, 3, 4, 5, 6, 7, 8, 9, 10]"
      ]
     },
     "execution_count": 5,
     "metadata": {},
     "output_type": "execute_result"
    }
   ],
   "source": [
    "list(range(1,11))"
   ]
  },
  {
   "cell_type": "code",
   "execution_count": 6,
   "id": "6ed32f00",
   "metadata": {},
   "outputs": [
    {
     "data": {
      "text/plain": [
       "[1, 3, 5, 7, 9]"
      ]
     },
     "execution_count": 6,
     "metadata": {},
     "output_type": "execute_result"
    }
   ],
   "source": [
    "list(range(1,11,2))"
   ]
  },
  {
   "cell_type": "code",
   "execution_count": 7,
   "id": "4525b1e8",
   "metadata": {},
   "outputs": [
    {
     "data": {
      "text/plain": [
       "[11, 9, 7, 5, 3]"
      ]
     },
     "execution_count": 7,
     "metadata": {},
     "output_type": "execute_result"
    }
   ],
   "source": [
    "list(range(11,1,-2))"
   ]
  },
  {
   "cell_type": "code",
   "execution_count": 8,
   "id": "4910ba32",
   "metadata": {},
   "outputs": [
    {
     "name": "stdout",
     "output_type": "stream",
     "text": [
      "1\n",
      "3\n",
      "5\n",
      "7\n",
      "9\n"
     ]
    }
   ],
   "source": [
    "for i in list(range(1,11,2)):\n",
    "    print(i)"
   ]
  },
  {
   "cell_type": "code",
   "execution_count": 9,
   "id": "74e2ed45",
   "metadata": {},
   "outputs": [],
   "source": [
    "# Sequence\n",
    "string = \"Karachi\"\n",
    "lst = [\"Karachi\", \"Lahore\", \"Islamabad\"]\n",
    "tpl = (\"Noman\", \"Ali\", \"Qasim\")\n",
    "sets = {'Zahid', \"Umair\", \"Umair\", \"Nameen\"}"
   ]
  },
  {
   "cell_type": "code",
   "execution_count": 10,
   "id": "106dc7c8",
   "metadata": {},
   "outputs": [
    {
     "name": "stdout",
     "output_type": "stream",
     "text": [
      "K\n",
      "a\n",
      "r\n",
      "a\n",
      "c\n",
      "h\n",
      "i\n"
     ]
    }
   ],
   "source": [
    "for i in string:\n",
    "    print(i)"
   ]
  },
  {
   "cell_type": "code",
   "execution_count": 11,
   "id": "49887b0a",
   "metadata": {},
   "outputs": [
    {
     "name": "stdout",
     "output_type": "stream",
     "text": [
      "Karachi\n",
      "Lahore\n",
      "Islamabad\n"
     ]
    }
   ],
   "source": [
    "for i in lst:\n",
    "    print(i)"
   ]
  },
  {
   "cell_type": "code",
   "execution_count": 12,
   "id": "a767b7b5",
   "metadata": {},
   "outputs": [
    {
     "name": "stdout",
     "output_type": "stream",
     "text": [
      "Noman\n",
      "Ali\n",
      "Qasim\n"
     ]
    }
   ],
   "source": [
    "for i in tpl:\n",
    "    print(i)"
   ]
  },
  {
   "cell_type": "code",
   "execution_count": 13,
   "id": "c23c2e16",
   "metadata": {},
   "outputs": [
    {
     "name": "stdout",
     "output_type": "stream",
     "text": [
      "Zahid\n",
      "Umair\n",
      "Nameen\n"
     ]
    }
   ],
   "source": [
    "for i in sets:\n",
    "    print(i)"
   ]
  },
  {
   "cell_type": "markdown",
   "id": "74a2629a",
   "metadata": {},
   "source": [
    "### 3. Nested Loops"
   ]
  },
  {
   "cell_type": "code",
   "execution_count": 14,
   "id": "7043142a",
   "metadata": {},
   "outputs": [],
   "source": [
    "# *\n",
    "# **\n",
    "# ***\n",
    "# ****\n",
    "# *****"
   ]
  },
  {
   "cell_type": "code",
   "execution_count": 15,
   "id": "85abd571",
   "metadata": {},
   "outputs": [
    {
     "name": "stdout",
     "output_type": "stream",
     "text": [
      "Enter the number of rows: 5\n",
      "*\n",
      "**\n",
      "***\n",
      "****\n",
      "*****\n"
     ]
    }
   ],
   "source": [
    "rows = int(input(\"Enter the number of rows: \"))\n",
    "\n",
    "for i in range(1, rows+1):\n",
    "    for j in range(0,i):\n",
    "        print(\"*\", end=\"\")\n",
    "    print(\"\")"
   ]
  },
  {
   "cell_type": "markdown",
   "id": "529f5a31",
   "metadata": {},
   "source": [
    "To better understand your code:\n",
    "* https://pythontutor.com/python-debugger.html#mode=edit"
   ]
  },
  {
   "cell_type": "markdown",
   "id": "f50285b5",
   "metadata": {},
   "source": [
    "### 4. Break/Continue/Pass"
   ]
  },
  {
   "cell_type": "code",
   "execution_count": 16,
   "id": "0bbc2347",
   "metadata": {},
   "outputs": [
    {
     "name": "stdout",
     "output_type": "stream",
     "text": [
      "0\n",
      "1\n",
      "2\n",
      "3\n",
      "4\n"
     ]
    }
   ],
   "source": [
    "for i in range(10):\n",
    "    if i == (5):\n",
    "        break\n",
    "    print(i)"
   ]
  },
  {
   "cell_type": "code",
   "execution_count": 17,
   "id": "3dd0f997",
   "metadata": {},
   "outputs": [
    {
     "name": "stdout",
     "output_type": "stream",
     "text": [
      "0\n",
      "1\n",
      "2\n",
      "3\n",
      "4\n",
      "6\n",
      "7\n",
      "8\n",
      "9\n"
     ]
    }
   ],
   "source": [
    "for i in range(10):\n",
    "    if i == (5):\n",
    "        continue\n",
    "    print(i)"
   ]
  },
  {
   "cell_type": "code",
   "execution_count": 18,
   "id": "6e095954",
   "metadata": {},
   "outputs": [],
   "source": [
    "for i in range(10):\n",
    "    pass"
   ]
  }
 ],
 "metadata": {
  "kernelspec": {
   "display_name": "Python 3",
   "language": "python",
   "name": "python3"
  },
  "language_info": {
   "codemirror_mode": {
    "name": "ipython",
    "version": 3
   },
   "file_extension": ".py",
   "mimetype": "text/x-python",
   "name": "python",
   "nbconvert_exporter": "python",
   "pygments_lexer": "ipython3",
   "version": "3.8.8"
  }
 },
 "nbformat": 4,
 "nbformat_minor": 5
}
