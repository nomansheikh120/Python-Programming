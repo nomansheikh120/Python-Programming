{
 "cells": [
  {
   "cell_type": "markdown",
   "id": "94ed1e55",
   "metadata": {},
   "source": [
    "### 1. print"
   ]
  },
  {
   "cell_type": "code",
   "execution_count": 1,
   "id": "b6efb01a",
   "metadata": {},
   "outputs": [
    {
     "name": "stdout",
     "output_type": "stream",
     "text": [
      "Hellow World\n"
     ]
    }
   ],
   "source": [
    "print(\"Hellow World\")"
   ]
  },
  {
   "cell_type": "markdown",
   "id": "693dc596",
   "metadata": {},
   "source": [
    "### 2. Input"
   ]
  },
  {
   "cell_type": "code",
   "execution_count": 2,
   "id": "1390228b",
   "metadata": {},
   "outputs": [
    {
     "name": "stdout",
     "output_type": "stream",
     "text": [
      "Enter your name: Noman\n"
     ]
    },
    {
     "data": {
      "text/plain": [
       "'Noman'"
      ]
     },
     "execution_count": 2,
     "metadata": {},
     "output_type": "execute_result"
    }
   ],
   "source": [
    "input(\"Enter your name: \")"
   ]
  },
  {
   "cell_type": "markdown",
   "id": "50539384",
   "metadata": {},
   "source": [
    "### 3. type"
   ]
  },
  {
   "cell_type": "code",
   "execution_count": 3,
   "id": "d8c06df3",
   "metadata": {},
   "outputs": [
    {
     "data": {
      "text/plain": [
       "float"
      ]
     },
     "execution_count": 3,
     "metadata": {},
     "output_type": "execute_result"
    }
   ],
   "source": [
    "a = 33.5\n",
    "type(a)"
   ]
  },
  {
   "cell_type": "markdown",
   "id": "2e39e925",
   "metadata": {},
   "source": [
    "### 4. int etc."
   ]
  },
  {
   "cell_type": "code",
   "execution_count": 4,
   "id": "261756bd",
   "metadata": {
    "scrolled": true
   },
   "outputs": [
    {
     "data": {
      "text/plain": [
       "33"
      ]
     },
     "execution_count": 4,
     "metadata": {},
     "output_type": "execute_result"
    }
   ],
   "source": [
    "int(a)"
   ]
  },
  {
   "cell_type": "markdown",
   "id": "1be0e082",
   "metadata": {},
   "source": [
    "### 5. abs"
   ]
  },
  {
   "cell_type": "code",
   "execution_count": 5,
   "id": "d29f96a0",
   "metadata": {},
   "outputs": [
    {
     "data": {
      "text/plain": [
       "17"
      ]
     },
     "execution_count": 5,
     "metadata": {},
     "output_type": "execute_result"
    }
   ],
   "source": [
    "abs(-17)"
   ]
  },
  {
   "cell_type": "markdown",
   "id": "0ab08471",
   "metadata": {},
   "source": [
    "### 6. pow"
   ]
  },
  {
   "cell_type": "code",
   "execution_count": 6,
   "id": "19e0a0e4",
   "metadata": {},
   "outputs": [
    {
     "data": {
      "text/plain": [
       "8"
      ]
     },
     "execution_count": 6,
     "metadata": {},
     "output_type": "execute_result"
    }
   ],
   "source": [
    "pow(2,3)"
   ]
  },
  {
   "cell_type": "markdown",
   "id": "0897300a",
   "metadata": {},
   "source": [
    "### 7. min/max"
   ]
  },
  {
   "cell_type": "code",
   "execution_count": 7,
   "id": "3773d637",
   "metadata": {},
   "outputs": [
    {
     "data": {
      "text/plain": [
       "1"
      ]
     },
     "execution_count": 7,
     "metadata": {},
     "output_type": "execute_result"
    }
   ],
   "source": [
    "min([1,2,3,4,5])"
   ]
  },
  {
   "cell_type": "code",
   "execution_count": 8,
   "id": "3f5608a4",
   "metadata": {},
   "outputs": [
    {
     "data": {
      "text/plain": [
       "'r'"
      ]
     },
     "execution_count": 8,
     "metadata": {},
     "output_type": "execute_result"
    }
   ],
   "source": [
    "max(\"Karachi\")"
   ]
  },
  {
   "cell_type": "markdown",
   "id": "62ac16c6",
   "metadata": {},
   "source": [
    "### 8. round"
   ]
  },
  {
   "cell_type": "code",
   "execution_count": 9,
   "id": "7f8f701c",
   "metadata": {},
   "outputs": [
    {
     "data": {
      "text/plain": [
       "34"
      ]
     },
     "execution_count": 9,
     "metadata": {},
     "output_type": "execute_result"
    }
   ],
   "source": [
    "round(a)"
   ]
  },
  {
   "cell_type": "markdown",
   "id": "89a11259",
   "metadata": {},
   "source": [
    "### 9. divmod"
   ]
  },
  {
   "cell_type": "code",
   "execution_count": 10,
   "id": "b1a77fb4",
   "metadata": {},
   "outputs": [
    {
     "data": {
      "text/plain": [
       "(2, 1)"
      ]
     },
     "execution_count": 10,
     "metadata": {},
     "output_type": "execute_result"
    }
   ],
   "source": [
    "divmod(5,2)"
   ]
  },
  {
   "cell_type": "markdown",
   "id": "1df1d155",
   "metadata": {},
   "source": [
    "### 10. bin/oct/hex"
   ]
  },
  {
   "cell_type": "code",
   "execution_count": 11,
   "id": "78001d2e",
   "metadata": {},
   "outputs": [
    {
     "data": {
      "text/plain": [
       "'0b10101'"
      ]
     },
     "execution_count": 11,
     "metadata": {},
     "output_type": "execute_result"
    }
   ],
   "source": [
    "bin(21)"
   ]
  },
  {
   "cell_type": "code",
   "execution_count": 12,
   "id": "ea6df0e4",
   "metadata": {},
   "outputs": [
    {
     "data": {
      "text/plain": [
       "'0o25'"
      ]
     },
     "execution_count": 12,
     "metadata": {},
     "output_type": "execute_result"
    }
   ],
   "source": [
    "oct(21)"
   ]
  },
  {
   "cell_type": "code",
   "execution_count": 13,
   "id": "9eca9b26",
   "metadata": {},
   "outputs": [
    {
     "data": {
      "text/plain": [
       "'0x15'"
      ]
     },
     "execution_count": 13,
     "metadata": {},
     "output_type": "execute_result"
    }
   ],
   "source": [
    "hex(21)"
   ]
  },
  {
   "cell_type": "markdown",
   "id": "42218e49",
   "metadata": {},
   "source": [
    "### 11. id"
   ]
  },
  {
   "cell_type": "code",
   "execution_count": 14,
   "id": "df3a644b",
   "metadata": {},
   "outputs": [
    {
     "data": {
      "text/plain": [
       "2184380793680"
      ]
     },
     "execution_count": 14,
     "metadata": {},
     "output_type": "execute_result"
    }
   ],
   "source": [
    "id(a)"
   ]
  },
  {
   "cell_type": "markdown",
   "id": "e95df038",
   "metadata": {},
   "source": [
    "### 12. ord"
   ]
  },
  {
   "cell_type": "code",
   "execution_count": 15,
   "id": "18ad82da",
   "metadata": {},
   "outputs": [
    {
     "data": {
      "text/plain": [
       "67"
      ]
     },
     "execution_count": 15,
     "metadata": {},
     "output_type": "execute_result"
    }
   ],
   "source": [
    "ord(\"C\")"
   ]
  },
  {
   "cell_type": "markdown",
   "id": "cec8ce29",
   "metadata": {},
   "source": [
    "### 13. len"
   ]
  },
  {
   "cell_type": "code",
   "execution_count": 16,
   "id": "d9127306",
   "metadata": {},
   "outputs": [
    {
     "data": {
      "text/plain": [
       "7"
      ]
     },
     "execution_count": 16,
     "metadata": {},
     "output_type": "execute_result"
    }
   ],
   "source": [
    "len(\"Karachi\")"
   ]
  },
  {
   "cell_type": "markdown",
   "id": "42f59a1f",
   "metadata": {},
   "source": [
    "### 14. sum"
   ]
  },
  {
   "cell_type": "code",
   "execution_count": 17,
   "id": "d5f0e026",
   "metadata": {},
   "outputs": [
    {
     "data": {
      "text/plain": [
       "15"
      ]
     },
     "execution_count": 17,
     "metadata": {},
     "output_type": "execute_result"
    }
   ],
   "source": [
    "sum([1,2,3,4,5])"
   ]
  },
  {
   "cell_type": "markdown",
   "id": "d4b20b12",
   "metadata": {},
   "source": [
    "### 15. help"
   ]
  },
  {
   "cell_type": "code",
   "execution_count": 18,
   "id": "a253fab0",
   "metadata": {},
   "outputs": [
    {
     "name": "stdout",
     "output_type": "stream",
     "text": [
      "Help on built-in function print in module builtins:\n",
      "\n",
      "print(...)\n",
      "    print(value, ..., sep=' ', end='\\n', file=sys.stdout, flush=False)\n",
      "    \n",
      "    Prints the values to a stream, or to sys.stdout by default.\n",
      "    Optional keyword arguments:\n",
      "    file:  a file-like object (stream); defaults to the current sys.stdout.\n",
      "    sep:   string inserted between values, default a space.\n",
      "    end:   string appended after the last value, default a newline.\n",
      "    flush: whether to forcibly flush the stream.\n",
      "\n"
     ]
    }
   ],
   "source": [
    "help(\"print\")"
   ]
  }
 ],
 "metadata": {
  "kernelspec": {
   "display_name": "Python 3",
   "language": "python",
   "name": "python3"
  },
  "language_info": {
   "codemirror_mode": {
    "name": "ipython",
    "version": 3
   },
   "file_extension": ".py",
   "mimetype": "text/x-python",
   "name": "python",
   "nbconvert_exporter": "python",
   "pygments_lexer": "ipython3",
   "version": "3.8.8"
  }
 },
 "nbformat": 4,
 "nbformat_minor": 5
}
