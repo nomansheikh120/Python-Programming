{
 "cells": [
  {
   "cell_type": "markdown",
   "id": "70b56210",
   "metadata": {},
   "source": [
    "### Definition\n",
    "In python specifically, strings are a sequence of Unicode Characters.\n",
    "`Unicode HOWTO:` https://docs.python.org/3.3/howto/unicode.html"
   ]
  },
  {
   "cell_type": "markdown",
   "id": "99096e23",
   "metadata": {},
   "source": [
    "### 1. Creating String"
   ]
  },
  {
   "cell_type": "code",
   "execution_count": 1,
   "id": "3b10e174",
   "metadata": {},
   "outputs": [
    {
     "name": "stdout",
     "output_type": "stream",
     "text": [
      "Noman NOMAN NoMaN nOmAn\n"
     ]
    }
   ],
   "source": [
    "string1, string2, string3, string4 = \"Noman\", 'NOMAN', \"\"\"NoMaN\"\"\", '''nOmAn'''\n",
    "print(string1, string2, string3, string4)"
   ]
  },
  {
   "cell_type": "code",
   "execution_count": 2,
   "id": "74a42099",
   "metadata": {},
   "outputs": [
    {
     "data": {
      "text/plain": [
       "\"It's raining outside.\""
      ]
     },
     "execution_count": 2,
     "metadata": {},
     "output_type": "execute_result"
    }
   ],
   "source": [
    "# 'It's raining outside.'\n",
    "sentence = \"It's raining outside.\"\n",
    "sentence"
   ]
  },
  {
   "cell_type": "markdown",
   "id": "c7293266",
   "metadata": {},
   "source": [
    "### 2. Accessing Strings"
   ]
  },
  {
   "cell_type": "code",
   "execution_count": 3,
   "id": "930fac3c",
   "metadata": {},
   "outputs": [
    {
     "data": {
      "text/plain": [
       "'Hello World'"
      ]
     },
     "execution_count": 3,
     "metadata": {},
     "output_type": "execute_result"
    }
   ],
   "source": [
    "string = \"Hello World\"\n",
    "string"
   ]
  },
  {
   "cell_type": "code",
   "execution_count": 4,
   "id": "744f5127",
   "metadata": {},
   "outputs": [
    {
     "name": "stdout",
     "output_type": "stream",
     "text": [
      "6\n",
      "W\n"
     ]
    }
   ],
   "source": [
    "# Positive Indexing\n",
    "print(string.index(\"W\"))\n",
    "print(string[6])"
   ]
  },
  {
   "cell_type": "code",
   "execution_count": 5,
   "id": "1f9a33fb",
   "metadata": {},
   "outputs": [
    {
     "name": "stdout",
     "output_type": "stream",
     "text": [
      "W\n"
     ]
    }
   ],
   "source": [
    "# Negative Indexing\n",
    "print(string[-5])"
   ]
  },
  {
   "cell_type": "code",
   "execution_count": 6,
   "id": "67732b54",
   "metadata": {},
   "outputs": [
    {
     "name": "stdout",
     "output_type": "stream",
     "text": [
      "Hello\n",
      "Hello\n",
      "World\n",
      "Hello \n",
      "Hello World\n",
      "HloWrd\n",
      "dlroW olleH\n"
     ]
    }
   ],
   "source": [
    "# Slicing\n",
    "print(string[0:5])\n",
    "print(string[:5])\n",
    "print(string[-5:])\n",
    "print(string[-11:-5])\n",
    "print(string[:])\n",
    "print(string[::2])\n",
    "print(string[::-1])"
   ]
  },
  {
   "cell_type": "markdown",
   "id": "dab5589a",
   "metadata": {},
   "source": [
    "### 4. Editing/Deleting Stings"
   ]
  },
  {
   "cell_type": "code",
   "execution_count": 7,
   "id": "2302c401",
   "metadata": {},
   "outputs": [
    {
     "data": {
      "text/plain": [
       "'Hello World'"
      ]
     },
     "execution_count": 7,
     "metadata": {},
     "output_type": "execute_result"
    }
   ],
   "source": [
    "string = \"Hello World\"\n",
    "string"
   ]
  },
  {
   "cell_type": "code",
   "execution_count": 8,
   "id": "7d4232c6",
   "metadata": {},
   "outputs": [],
   "source": [
    "# string[0] = \"W\" - String are immutable\n",
    "# del string[4] - String are immutable"
   ]
  },
  {
   "cell_type": "markdown",
   "id": "1ebdb268",
   "metadata": {},
   "source": [
    "### 6. Operations on Strings"
   ]
  },
  {
   "cell_type": "code",
   "execution_count": 9,
   "id": "2b65a09c",
   "metadata": {},
   "outputs": [
    {
     "name": "stdout",
     "output_type": "stream",
     "text": [
      "Hellow World\n",
      "************\n"
     ]
    }
   ],
   "source": [
    "# Arithmetic Operations\n",
    "print(\"Hellow\" + \" \" + \"World\")\n",
    "print(\"*\"*12)"
   ]
  },
  {
   "cell_type": "code",
   "execution_count": 10,
   "id": "5c99b8e0",
   "metadata": {},
   "outputs": [
    {
     "name": "stdout",
     "output_type": "stream",
     "text": [
      "False\n",
      "True\n",
      "False\n",
      "True\n",
      "False\n",
      "True\n"
     ]
    }
   ],
   "source": [
    "# Relational Operations\n",
    "print(\"Hellow\" == \"World\")\n",
    "print(\"Hellow\" != \"World\")\n",
    "# Lexiographically (Word coming after is greater)\n",
    "print(\"Hellow\" > \"World\")\n",
    "print(\"Hellow\" < \"World\")\n",
    "# Capital Word Is greater\n",
    "print(\"Hellow\" > \"hellow\")\n",
    "print(\"Hellow\" < \"hellow\")"
   ]
  },
  {
   "cell_type": "code",
   "execution_count": 11,
   "id": "6132c593",
   "metadata": {},
   "outputs": [
    {
     "name": "stdout",
     "output_type": "stream",
     "text": [
      "World\n",
      "Hello\n",
      "World\n",
      "True\n"
     ]
    },
    {
     "data": {
      "text/plain": [
       "''"
      ]
     },
     "execution_count": 11,
     "metadata": {},
     "output_type": "execute_result"
    }
   ],
   "source": [
    "# Logical Operations --> (Empty is False, Non-Empty is True) \n",
    "print(\"Hello\" and \"World\")\n",
    "print(\"Hello\" or \"World\")\n",
    "print(\"\" or \"World\")\n",
    "print(not \"\")\n",
    "\"Hello\" and \"\""
   ]
  },
  {
   "cell_type": "code",
   "execution_count": 12,
   "id": "a37f0934",
   "metadata": {},
   "outputs": [
    {
     "name": "stdout",
     "output_type": "stream",
     "text": [
      "H\n",
      "e\n",
      "l\n",
      "l\n",
      "o\n",
      " \n",
      "W\n",
      "o\n",
      "r\n",
      "l\n",
      "d\n"
     ]
    }
   ],
   "source": [
    "# Loops on Strings\n",
    "for i in string:\n",
    "    print(i)"
   ]
  },
  {
   "cell_type": "code",
   "execution_count": 13,
   "id": "fd55057d",
   "metadata": {},
   "outputs": [
    {
     "name": "stdout",
     "output_type": "stream",
     "text": [
      "True\n",
      "False\n"
     ]
    }
   ],
   "source": [
    "# Membership Operations\n",
    "print(\"H\" in string)\n",
    "print(\"W\" not in string)"
   ]
  },
  {
   "cell_type": "markdown",
   "id": "bbbb4f47",
   "metadata": {},
   "source": [
    "### 7. String Functions"
   ]
  },
  {
   "cell_type": "code",
   "execution_count": 14,
   "id": "5fbd6075",
   "metadata": {},
   "outputs": [],
   "source": [
    "string = \"hello world\""
   ]
  },
  {
   "cell_type": "code",
   "execution_count": 15,
   "id": "015c8cd4",
   "metadata": {},
   "outputs": [
    {
     "name": "stdout",
     "output_type": "stream",
     "text": [
      "11\n",
      " \n",
      "w\n",
      "[' ', 'd', 'e', 'h', 'l', 'l', 'l', 'o', 'o', 'r', 'w']\n",
      "['w', 'r', 'o', 'o', 'l', 'l', 'l', 'h', 'e', 'd', ' ']\n"
     ]
    }
   ],
   "source": [
    "# Common Functions (len/Max/Min/Sorted)\n",
    "print(len(string))\n",
    "print(min(string))\n",
    "print(max(string))\n",
    "print(sorted(string))\n",
    "print(sorted(string, reverse=True))"
   ]
  },
  {
   "cell_type": "code",
   "execution_count": 16,
   "id": "9c9c9f72",
   "metadata": {},
   "outputs": [
    {
     "name": "stdout",
     "output_type": "stream",
     "text": [
      "Hello world\n",
      "Hello World\n",
      "HELLO WORLD\n",
      "hello world\n",
      "HELLO WORLD\n"
     ]
    }
   ],
   "source": [
    "# Capilalize/title/Upper/Lower/Swapcase\n",
    "print(string.capitalize())\n",
    "print(string.title())\n",
    "print(string.upper())\n",
    "print(string.lower())\n",
    "print(string.swapcase())"
   ]
  },
  {
   "cell_type": "code",
   "execution_count": 17,
   "id": "db2310e3",
   "metadata": {},
   "outputs": [
    {
     "name": "stdout",
     "output_type": "stream",
     "text": [
      "3\n",
      "4\n",
      "0\n",
      "False\n",
      "True\n"
     ]
    }
   ],
   "source": [
    "# COunt/Find/Index/Startswith/Endswith\n",
    "print(string.count(\"l\"))\n",
    "print(string.find(\"o\"))\n",
    "print(string.index(\"h\"))\n",
    "print(string.startswith(\"a\"))\n",
    "print(string.endswith(\"d\"))"
   ]
  },
  {
   "cell_type": "code",
   "execution_count": 18,
   "id": "89686422",
   "metadata": {},
   "outputs": [
    {
     "name": "stdout",
     "output_type": "stream",
     "text": [
      "My name is Noman, I'm 25 years old and my salary is 40000.0\n",
      "My name is Noman, I'm 25 years old and my salary is 40000.0\n",
      "My name is Noman, I'm 25 years old and my salary is 40000.0\n"
     ]
    }
   ],
   "source": [
    "# Format\n",
    "name = \"Noman\"\n",
    "age = 25\n",
    "salary = 40000.0\n",
    "print(f\"My name is {name}, I'm {age} years old and my salary is {salary}\")\n",
    "print(\"My name is {0}, I'm {1} years old and my salary is {2}\".format(name, age, salary))\n",
    "print(\"My name is {}, I'm {} years old and my salary is {}\".format(name, age, salary))"
   ]
  },
  {
   "cell_type": "code",
   "execution_count": 19,
   "id": "9c3bfe12",
   "metadata": {},
   "outputs": [
    {
     "name": "stdout",
     "output_type": "stream",
     "text": [
      "False\n",
      "False\n",
      "False\n",
      "False\n",
      "False\n"
     ]
    }
   ],
   "source": [
    "# isalnum/isalpha/isdecimal/isdigit/isidentifier\n",
    "string = \"noman@gmail.com\"\n",
    "print(string.isalnum())\n",
    "print(string.isalpha())\n",
    "print(string.isdecimal())\n",
    "print(string.isdigit())\n",
    "print(string.isidentifier())"
   ]
  },
  {
   "cell_type": "code",
   "execution_count": 20,
   "id": "4af8b646",
   "metadata": {},
   "outputs": [
    {
     "name": "stdout",
     "output_type": "stream",
     "text": [
      "['Hello', 'world']\n",
      "Hello_World\n",
      "Hello-world\n",
      "ello world\n"
     ]
    }
   ],
   "source": [
    "# Split/Join\n",
    "string = \"Hello world\"\n",
    "print(string.split())\n",
    "print(\"_\".join([\"Hello\", \"World\"]))\n",
    "print(string.replace(' ','-'))\n",
    "print(string.strip(\"H\"))"
   ]
  }
 ],
 "metadata": {
  "kernelspec": {
   "display_name": "Python 3 (ipykernel)",
   "language": "python",
   "name": "python3"
  },
  "language_info": {
   "codemirror_mode": {
    "name": "ipython",
    "version": 3
   },
   "file_extension": ".py",
   "mimetype": "text/x-python",
   "name": "python",
   "nbconvert_exporter": "python",
   "pygments_lexer": "ipython3",
   "version": "3.11.3"
  }
 },
 "nbformat": 4,
 "nbformat_minor": 5
}
