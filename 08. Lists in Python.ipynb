{
 "cells": [
  {
   "cell_type": "markdown",
   "id": "cc316a94",
   "metadata": {},
   "source": [
    "### Definition\n",
    "List is a collection of things, enclosed in `[ ]` and separated by commas. The list is a sequence data type which is used to store the collection of data."
   ]
  },
  {
   "cell_type": "markdown",
   "id": "d5c9c199",
   "metadata": {},
   "source": [
    "### List Vs. Array\n",
    "* List contain elements of different types, array cannot contain elements of different types.\n",
    "* List consumes more memory, array consumes less memory comparatively"
   ]
  },
  {
   "cell_type": "markdown",
   "id": "88f6b96e",
   "metadata": {},
   "source": [
    "### 1. Creating List"
   ]
  },
  {
   "cell_type": "code",
   "execution_count": 1,
   "id": "9f3e4bc1",
   "metadata": {},
   "outputs": [],
   "source": [
    "list_1 = [1,2,3,4,5]\n",
    "list_2 = [\"Noman\", 50, 50000.0]"
   ]
  },
  {
   "cell_type": "code",
   "execution_count": 2,
   "id": "7e73a7a2",
   "metadata": {},
   "outputs": [
    {
     "name": "stdout",
     "output_type": "stream",
     "text": [
      "[1, 2, 3, 4, 5] ['Noman', 50, 50000.0]\n"
     ]
    }
   ],
   "source": [
    "print(list_1, list_2)"
   ]
  },
  {
   "cell_type": "code",
   "execution_count": 3,
   "id": "7ca8ad93",
   "metadata": {},
   "outputs": [],
   "source": [
    "list_3 = list((1,2,3,4,5))"
   ]
  },
  {
   "cell_type": "code",
   "execution_count": 4,
   "id": "61ea826a",
   "metadata": {},
   "outputs": [
    {
     "data": {
      "text/plain": [
       "[1, 2, 3, 4, 5]"
      ]
     },
     "execution_count": 4,
     "metadata": {},
     "output_type": "execute_result"
    }
   ],
   "source": [
    "list_3"
   ]
  },
  {
   "cell_type": "code",
   "execution_count": 5,
   "id": "22440b90",
   "metadata": {},
   "outputs": [],
   "source": [
    "list_4 = ['Noman', 50, 50000.0, [1, 2, 3, 4, 5]]"
   ]
  },
  {
   "cell_type": "code",
   "execution_count": 6,
   "id": "a5a9e486",
   "metadata": {},
   "outputs": [
    {
     "data": {
      "text/plain": [
       "['Noman', 50, 50000.0, [1, 2, 3, 4, 5]]"
      ]
     },
     "execution_count": 6,
     "metadata": {},
     "output_type": "execute_result"
    }
   ],
   "source": [
    "list_4"
   ]
  },
  {
   "cell_type": "markdown",
   "id": "7a94e1ea",
   "metadata": {},
   "source": [
    "### 2. Accessing Lists"
   ]
  },
  {
   "cell_type": "code",
   "execution_count": 7,
   "id": "9f0bdcc7",
   "metadata": {},
   "outputs": [
    {
     "data": {
      "text/plain": [
       "'Noman'"
      ]
     },
     "execution_count": 7,
     "metadata": {},
     "output_type": "execute_result"
    }
   ],
   "source": [
    "list_2[0]"
   ]
  },
  {
   "cell_type": "code",
   "execution_count": 8,
   "id": "cd823d0f",
   "metadata": {},
   "outputs": [
    {
     "data": {
      "text/plain": [
       "50000.0"
      ]
     },
     "execution_count": 8,
     "metadata": {},
     "output_type": "execute_result"
    }
   ],
   "source": [
    "list_2[-1]"
   ]
  },
  {
   "cell_type": "code",
   "execution_count": 9,
   "id": "e615fee8",
   "metadata": {},
   "outputs": [
    {
     "data": {
      "text/plain": [
       "[1, 2, 3, 4, 5]"
      ]
     },
     "execution_count": 9,
     "metadata": {},
     "output_type": "execute_result"
    }
   ],
   "source": [
    "list_1[:]"
   ]
  },
  {
   "cell_type": "code",
   "execution_count": 10,
   "id": "5f02c9af",
   "metadata": {},
   "outputs": [
    {
     "data": {
      "text/plain": [
       "[5, 4, 3, 2, 1]"
      ]
     },
     "execution_count": 10,
     "metadata": {},
     "output_type": "execute_result"
    }
   ],
   "source": [
    "list_1[::-1]"
   ]
  },
  {
   "cell_type": "code",
   "execution_count": 11,
   "id": "245159b8",
   "metadata": {},
   "outputs": [
    {
     "data": {
      "text/plain": [
       "5"
      ]
     },
     "execution_count": 11,
     "metadata": {},
     "output_type": "execute_result"
    }
   ],
   "source": [
    "list_4[-1][-1]"
   ]
  },
  {
   "cell_type": "markdown",
   "id": "9eca0a8d",
   "metadata": {},
   "source": [
    "### 3. Editing Lists"
   ]
  },
  {
   "cell_type": "code",
   "execution_count": 12,
   "id": "a5db60d5",
   "metadata": {},
   "outputs": [
    {
     "data": {
      "text/plain": [
       "['Noman Khan', 50, 50000.0, [1, 2, 3, 4, 5]]"
      ]
     },
     "execution_count": 12,
     "metadata": {},
     "output_type": "execute_result"
    }
   ],
   "source": [
    "list_4[0] = \"Noman Khan\"\n",
    "list_4"
   ]
  },
  {
   "cell_type": "markdown",
   "id": "7c76b867",
   "metadata": {},
   "source": [
    "### 4. Adding single/multiple Items in Lists"
   ]
  },
  {
   "cell_type": "code",
   "execution_count": 13,
   "id": "788ec7e5",
   "metadata": {},
   "outputs": [
    {
     "data": {
      "text/plain": [
       "['Noman', 50, 50000.0, 'Gulshan']"
      ]
     },
     "execution_count": 13,
     "metadata": {},
     "output_type": "execute_result"
    }
   ],
   "source": [
    "list_2.append(\"Gulshan\")\n",
    "list_2"
   ]
  },
  {
   "cell_type": "code",
   "execution_count": 14,
   "id": "4e06065f",
   "metadata": {},
   "outputs": [
    {
     "data": {
      "text/plain": [
       "['Noman', 50, 50000.0, 'Gulshan', '03211353531', '03313962461']"
      ]
     },
     "execution_count": 14,
     "metadata": {},
     "output_type": "execute_result"
    }
   ],
   "source": [
    "list_2.extend(['03211353531', '03313962461'])\n",
    "list_2"
   ]
  },
  {
   "cell_type": "code",
   "execution_count": 15,
   "id": "1d13e666",
   "metadata": {},
   "outputs": [
    {
     "data": {
      "text/plain": [
       "['Noman', 'Khalil', 50, 50000.0, 'Gulshan', '03211353531', '03313962461']"
      ]
     },
     "execution_count": 15,
     "metadata": {},
     "output_type": "execute_result"
    }
   ],
   "source": [
    "list_2.insert(1, \"Khalil\")\n",
    "list_2"
   ]
  },
  {
   "cell_type": "markdown",
   "id": "64949caa",
   "metadata": {},
   "source": [
    "### 5. Deleting Lists"
   ]
  },
  {
   "cell_type": "code",
   "execution_count": 16,
   "id": "eec4180a",
   "metadata": {},
   "outputs": [],
   "source": [
    "# del, remove, pop, clear"
   ]
  },
  {
   "cell_type": "code",
   "execution_count": 17,
   "id": "f9c3f21a",
   "metadata": {},
   "outputs": [],
   "source": [
    "del list_1\n",
    "# list_1 ~ NameError: name 'list_1' is not defined"
   ]
  },
  {
   "cell_type": "code",
   "execution_count": 18,
   "id": "c0f1fc5d",
   "metadata": {},
   "outputs": [
    {
     "data": {
      "text/plain": [
       "['Noman', 'Khalil', 50, 50000.0, 'Gulshan', '03211353531']"
      ]
     },
     "execution_count": 18,
     "metadata": {},
     "output_type": "execute_result"
    }
   ],
   "source": [
    "del list_2[-1]\n",
    "list_2"
   ]
  },
  {
   "cell_type": "code",
   "execution_count": 19,
   "id": "13ff6acc",
   "metadata": {},
   "outputs": [
    {
     "data": {
      "text/plain": [
       "['Noman', 50, 50000.0, 'Gulshan', '03211353531']"
      ]
     },
     "execution_count": 19,
     "metadata": {},
     "output_type": "execute_result"
    }
   ],
   "source": [
    "list_2.remove(\"Khalil\")\n",
    "list_2"
   ]
  },
  {
   "cell_type": "code",
   "execution_count": 20,
   "id": "241bb523",
   "metadata": {},
   "outputs": [
    {
     "data": {
      "text/plain": [
       "'03211353531'"
      ]
     },
     "execution_count": 20,
     "metadata": {},
     "output_type": "execute_result"
    }
   ],
   "source": [
    "list_2.pop()"
   ]
  },
  {
   "cell_type": "code",
   "execution_count": 21,
   "id": "5dc223e1",
   "metadata": {},
   "outputs": [
    {
     "data": {
      "text/plain": [
       "['Noman', 50, 50000.0, 'Gulshan']"
      ]
     },
     "execution_count": 21,
     "metadata": {},
     "output_type": "execute_result"
    }
   ],
   "source": [
    "list_2"
   ]
  },
  {
   "cell_type": "code",
   "execution_count": 22,
   "id": "81e6fbe8",
   "metadata": {},
   "outputs": [
    {
     "data": {
      "text/plain": [
       "[]"
      ]
     },
     "execution_count": 22,
     "metadata": {},
     "output_type": "execute_result"
    }
   ],
   "source": [
    "list_4.clear()\n",
    "list_4"
   ]
  },
  {
   "cell_type": "markdown",
   "id": "d9068d86",
   "metadata": {},
   "source": [
    "### 6. Operations on Strings"
   ]
  },
  {
   "cell_type": "code",
   "execution_count": 23,
   "id": "f265339d",
   "metadata": {},
   "outputs": [
    {
     "data": {
      "text/plain": [
       "['Noman', 50, 50000.0, 'Gulshan', 1, 2, 3, 4, 5]"
      ]
     },
     "execution_count": 23,
     "metadata": {},
     "output_type": "execute_result"
    }
   ],
   "source": [
    "list_2 + list_3"
   ]
  },
  {
   "cell_type": "code",
   "execution_count": 24,
   "id": "88cef6f3",
   "metadata": {},
   "outputs": [
    {
     "data": {
      "text/plain": [
       "['Noman', 50, 50000.0, 'Gulshan', 'Noman', 50, 50000.0, 'Gulshan']"
      ]
     },
     "execution_count": 24,
     "metadata": {},
     "output_type": "execute_result"
    }
   ],
   "source": [
    "list_2 * 2"
   ]
  },
  {
   "cell_type": "code",
   "execution_count": 25,
   "id": "fc9adac6",
   "metadata": {},
   "outputs": [
    {
     "name": "stdout",
     "output_type": "stream",
     "text": [
      "Noman\n",
      "50\n",
      "50000.0\n",
      "Gulshan\n"
     ]
    }
   ],
   "source": [
    "for i in list_2:\n",
    "    print(i)"
   ]
  },
  {
   "cell_type": "code",
   "execution_count": 26,
   "id": "137c1ac3",
   "metadata": {},
   "outputs": [
    {
     "data": {
      "text/plain": [
       "True"
      ]
     },
     "execution_count": 26,
     "metadata": {},
     "output_type": "execute_result"
    }
   ],
   "source": [
    "\"Gulshan\" in list_2"
   ]
  },
  {
   "cell_type": "markdown",
   "id": "be9f31df",
   "metadata": {},
   "source": [
    "### 7. List Functions"
   ]
  },
  {
   "cell_type": "code",
   "execution_count": 27,
   "id": "5256d308",
   "metadata": {},
   "outputs": [
    {
     "data": {
      "text/plain": [
       "5"
      ]
     },
     "execution_count": 27,
     "metadata": {},
     "output_type": "execute_result"
    }
   ],
   "source": [
    "len([1,2,3,4,5])"
   ]
  },
  {
   "cell_type": "code",
   "execution_count": 28,
   "id": "207c0107",
   "metadata": {},
   "outputs": [
    {
     "data": {
      "text/plain": [
       "5"
      ]
     },
     "execution_count": 28,
     "metadata": {},
     "output_type": "execute_result"
    }
   ],
   "source": [
    "max([1,2,3,4,5])"
   ]
  },
  {
   "cell_type": "code",
   "execution_count": 29,
   "id": "03f2e5d5",
   "metadata": {},
   "outputs": [
    {
     "data": {
      "text/plain": [
       "1"
      ]
     },
     "execution_count": 29,
     "metadata": {},
     "output_type": "execute_result"
    }
   ],
   "source": [
    "min([1,2,3,4,5])"
   ]
  },
  {
   "cell_type": "code",
   "execution_count": 30,
   "id": "73af7f77",
   "metadata": {},
   "outputs": [
    {
     "data": {
      "text/plain": [
       "2"
      ]
     },
     "execution_count": 30,
     "metadata": {},
     "output_type": "execute_result"
    }
   ],
   "source": [
    "[1,2,3,4,5].index(3)"
   ]
  },
  {
   "cell_type": "code",
   "execution_count": 31,
   "id": "c479ed17",
   "metadata": {},
   "outputs": [
    {
     "data": {
      "text/plain": [
       "[5, 4, 3, 2, 1]"
      ]
     },
     "execution_count": 31,
     "metadata": {},
     "output_type": "execute_result"
    }
   ],
   "source": [
    "sorted([1,2,3,4,5], reverse=True) # Temporary - New List"
   ]
  },
  {
   "cell_type": "code",
   "execution_count": 32,
   "id": "d7e170d1",
   "metadata": {},
   "outputs": [],
   "source": [
    "[1,2,3,4,5].sort(reverse=True)    # Permanent "
   ]
  },
  {
   "cell_type": "markdown",
   "id": "4135d0f1",
   "metadata": {},
   "source": [
    "### Assignment # 1\n",
    "\n",
    "* input = \"hellow how are you\"\n",
    "* output = \"Hellow How Are You\""
   ]
  },
  {
   "cell_type": "code",
   "execution_count": 33,
   "id": "69cd59da",
   "metadata": {},
   "outputs": [
    {
     "name": "stdout",
     "output_type": "stream",
     "text": [
      "Hellow How Are You\n"
     ]
    }
   ],
   "source": [
    "ip = \"hellow how are you\"\n",
    "op = []\n",
    "\n",
    "for i in ip.split():\n",
    "    op.append(i.capitalize())\n",
    "    \n",
    "print(\" \".join(op))"
   ]
  },
  {
   "cell_type": "markdown",
   "id": "1e951d29",
   "metadata": {},
   "source": [
    "### Assignment # 2\n",
    "\n",
    "* input = \"noman@exmaple.com\"\n",
    "* output = \"noman\""
   ]
  },
  {
   "cell_type": "code",
   "execution_count": 34,
   "id": "13c3d157",
   "metadata": {},
   "outputs": [
    {
     "data": {
      "text/plain": [
       "'noman'"
      ]
     },
     "execution_count": 34,
     "metadata": {},
     "output_type": "execute_result"
    }
   ],
   "source": [
    "ip = \"noman@exmaple.com\"\n",
    "op = ip.split(\"@\")[0]\n",
    "op"
   ]
  },
  {
   "cell_type": "code",
   "execution_count": 35,
   "id": "627dbc2f",
   "metadata": {},
   "outputs": [
    {
     "data": {
      "text/plain": [
       "'noman'"
      ]
     },
     "execution_count": 35,
     "metadata": {},
     "output_type": "execute_result"
    }
   ],
   "source": [
    "ip = \"noman@exmaple.com\"\n",
    "op = ip[:ip.find(\"@\")]\n",
    "op"
   ]
  },
  {
   "cell_type": "markdown",
   "id": "f78c7e19",
   "metadata": {},
   "source": [
    "### Assignment # 3\n",
    "\n",
    "* input = [1,1,2,2,3,3,4,4]\n",
    "* output = [1,2,3,4]"
   ]
  },
  {
   "cell_type": "code",
   "execution_count": 36,
   "id": "d4798c27",
   "metadata": {},
   "outputs": [
    {
     "data": {
      "text/plain": [
       "[1, 2, 3, 4]"
      ]
     },
     "execution_count": 36,
     "metadata": {},
     "output_type": "execute_result"
    }
   ],
   "source": [
    "ip = [1,1,2,2,3,3,4,4]\n",
    "\n",
    "op = []\n",
    "for i in ip:\n",
    "    if i not in op:\n",
    "        op.append(i)\n",
    "op"
   ]
  }
 ],
 "metadata": {
  "kernelspec": {
   "display_name": "Python 3 (ipykernel)",
   "language": "python",
   "name": "python3"
  },
  "language_info": {
   "codemirror_mode": {
    "name": "ipython",
    "version": 3
   },
   "file_extension": ".py",
   "mimetype": "text/x-python",
   "name": "python",
   "nbconvert_exporter": "python",
   "pygments_lexer": "ipython3",
   "version": "3.11.3"
  }
 },
 "nbformat": 4,
 "nbformat_minor": 5
}
