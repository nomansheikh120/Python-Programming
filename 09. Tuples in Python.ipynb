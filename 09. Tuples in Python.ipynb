{
 "cells": [
  {
   "cell_type": "markdown",
   "id": "2b95d992",
   "metadata": {},
   "source": [
    "### Definition\n",
    "\n",
    "Tuples are used to store multiple items in a single variable. A tuple is a collection which is ordered and unchangeable."
   ]
  },
  {
   "cell_type": "markdown",
   "id": "0001ca76",
   "metadata": {},
   "source": [
    "### 1. Creating Tuples"
   ]
  },
  {
   "cell_type": "code",
   "execution_count": 1,
   "id": "b0033496",
   "metadata": {},
   "outputs": [],
   "source": [
    "tuple_1 = ()"
   ]
  },
  {
   "cell_type": "code",
   "execution_count": 22,
   "id": "00f7b952",
   "metadata": {},
   "outputs": [
    {
     "data": {
      "text/plain": [
       "(1, 2, 3, 4, 5)"
      ]
     },
     "execution_count": 22,
     "metadata": {},
     "output_type": "execute_result"
    }
   ],
   "source": [
    "tuple_2 = (1,2,3,4,5)\n",
    "tuple_2"
   ]
  },
  {
   "cell_type": "code",
   "execution_count": 4,
   "id": "0e4557cc",
   "metadata": {},
   "outputs": [
    {
     "data": {
      "text/plain": [
       "('Noman', 24, 50000.0)"
      ]
     },
     "execution_count": 4,
     "metadata": {},
     "output_type": "execute_result"
    }
   ],
   "source": [
    "tuple_3 = (\"Noman\", 24, 50000.0)\n",
    "tuple_3"
   ]
  },
  {
   "cell_type": "code",
   "execution_count": 5,
   "id": "09daf7b1",
   "metadata": {},
   "outputs": [
    {
     "data": {
      "text/plain": [
       "('Noman', 24, 50000.0, (1, 2, 3, 4, 5))"
      ]
     },
     "execution_count": 5,
     "metadata": {},
     "output_type": "execute_result"
    }
   ],
   "source": [
    "tuple_4 = (\"Noman\", 24, 50000.0, (1,2,3,4,5))\n",
    "tuple_4"
   ]
  },
  {
   "cell_type": "code",
   "execution_count": 6,
   "id": "bf852298",
   "metadata": {},
   "outputs": [
    {
     "name": "stdout",
     "output_type": "stream",
     "text": [
      "1\n",
      "<class 'int'>\n"
     ]
    }
   ],
   "source": [
    "tuple_5 = (1)\n",
    "print(tuple_5)\n",
    "print(type(tuple_5))"
   ]
  },
  {
   "cell_type": "code",
   "execution_count": 7,
   "id": "3ba53b36",
   "metadata": {},
   "outputs": [
    {
     "name": "stdout",
     "output_type": "stream",
     "text": [
      "('Hello',)\n",
      "<class 'tuple'>\n"
     ]
    }
   ],
   "source": [
    "tuple_6 = (\"Hello\",)\n",
    "print(tuple_6)\n",
    "print(type(tuple_6))"
   ]
  },
  {
   "cell_type": "code",
   "execution_count": 8,
   "id": "22e0fa9b",
   "metadata": {},
   "outputs": [
    {
     "name": "stdout",
     "output_type": "stream",
     "text": [
      "('H', 'e', 'l', 'l', 'o')\n",
      "<class 'tuple'>\n"
     ]
    }
   ],
   "source": [
    "tuple_7 = tuple(\"Hello\")\n",
    "print(tuple_7)\n",
    "print(type(tuple_7))"
   ]
  },
  {
   "cell_type": "code",
   "execution_count": 9,
   "id": "294e0e30",
   "metadata": {},
   "outputs": [
    {
     "name": "stdout",
     "output_type": "stream",
     "text": [
      "(1, 2, 3, 4, 5)\n",
      "<class 'tuple'>\n"
     ]
    }
   ],
   "source": [
    "tuple_7 = tuple([1,2,3,4,5])\n",
    "print(tuple_7)\n",
    "print(type(tuple_7))"
   ]
  },
  {
   "cell_type": "markdown",
   "id": "83806dfa",
   "metadata": {},
   "source": [
    "### 2. Accessing Tuples"
   ]
  },
  {
   "cell_type": "code",
   "execution_count": 14,
   "id": "c49e082f",
   "metadata": {},
   "outputs": [
    {
     "data": {
      "text/plain": [
       "'Noman'"
      ]
     },
     "execution_count": 14,
     "metadata": {},
     "output_type": "execute_result"
    }
   ],
   "source": [
    "tuple_4[0]"
   ]
  },
  {
   "cell_type": "code",
   "execution_count": 15,
   "id": "09d9a5bc",
   "metadata": {},
   "outputs": [
    {
     "data": {
      "text/plain": [
       "(1, 2, 3, 4, 5)"
      ]
     },
     "execution_count": 15,
     "metadata": {},
     "output_type": "execute_result"
    }
   ],
   "source": [
    "tuple_4[-1]"
   ]
  },
  {
   "cell_type": "code",
   "execution_count": 16,
   "id": "f8d284c7",
   "metadata": {},
   "outputs": [
    {
     "data": {
      "text/plain": [
       "('Noman', 24, 50000.0, (1, 2, 3, 4, 5))"
      ]
     },
     "execution_count": 16,
     "metadata": {},
     "output_type": "execute_result"
    }
   ],
   "source": [
    "tuple_4[:]"
   ]
  },
  {
   "cell_type": "code",
   "execution_count": 17,
   "id": "efe9f011",
   "metadata": {},
   "outputs": [
    {
     "data": {
      "text/plain": [
       "1"
      ]
     },
     "execution_count": 17,
     "metadata": {},
     "output_type": "execute_result"
    }
   ],
   "source": [
    "tuple_4[-1][0]"
   ]
  },
  {
   "cell_type": "markdown",
   "id": "0d922e7e",
   "metadata": {},
   "source": [
    "### 3. Editing/Adding in Tuples"
   ]
  },
  {
   "cell_type": "code",
   "execution_count": 20,
   "id": "1d8617f5",
   "metadata": {},
   "outputs": [],
   "source": [
    "# tuple_4[0] = \"Noman Khan\" ~ TypeError: 'tuple' object does not support item assignment"
   ]
  },
  {
   "cell_type": "markdown",
   "id": "90dffe0b",
   "metadata": {},
   "source": [
    "### 4. Deleting Tuples"
   ]
  },
  {
   "cell_type": "code",
   "execution_count": 23,
   "id": "8d85b43a",
   "metadata": {},
   "outputs": [],
   "source": [
    "del tuple_2\n",
    "# tuple_2 ~ NameError: name 'tuple_2' is not defined"
   ]
  },
  {
   "cell_type": "markdown",
   "id": "7406e9be",
   "metadata": {},
   "source": [
    "### 5. Operations on Tuples"
   ]
  },
  {
   "cell_type": "code",
   "execution_count": 26,
   "id": "05da43d1",
   "metadata": {},
   "outputs": [
    {
     "data": {
      "text/plain": [
       "('Noman', 24, 50000.0, 1, 2, 3, 4, 5)"
      ]
     },
     "execution_count": 26,
     "metadata": {},
     "output_type": "execute_result"
    }
   ],
   "source": [
    "tuple_3 + tuple_7"
   ]
  },
  {
   "cell_type": "code",
   "execution_count": 27,
   "id": "7718210e",
   "metadata": {},
   "outputs": [
    {
     "data": {
      "text/plain": [
       "('Noman', 24, 50000.0, 'Noman', 24, 50000.0)"
      ]
     },
     "execution_count": 27,
     "metadata": {},
     "output_type": "execute_result"
    }
   ],
   "source": [
    "tuple_3 * 2"
   ]
  },
  {
   "cell_type": "code",
   "execution_count": 28,
   "id": "d4cc3f86",
   "metadata": {},
   "outputs": [
    {
     "name": "stdout",
     "output_type": "stream",
     "text": [
      "Noman\n",
      "24\n",
      "50000.0\n"
     ]
    }
   ],
   "source": [
    "for i in tuple_3:\n",
    "    print(i)"
   ]
  },
  {
   "cell_type": "markdown",
   "id": "cc08996a",
   "metadata": {},
   "source": [
    "### 6. Tuple Functions"
   ]
  },
  {
   "cell_type": "code",
   "execution_count": 33,
   "id": "0c578855",
   "metadata": {},
   "outputs": [
    {
     "data": {
      "text/plain": [
       "5"
      ]
     },
     "execution_count": 33,
     "metadata": {},
     "output_type": "execute_result"
    }
   ],
   "source": [
    "len(tuple_7)"
   ]
  },
  {
   "cell_type": "code",
   "execution_count": 34,
   "id": "1d9a7b7f",
   "metadata": {},
   "outputs": [
    {
     "data": {
      "text/plain": [
       "1"
      ]
     },
     "execution_count": 34,
     "metadata": {},
     "output_type": "execute_result"
    }
   ],
   "source": [
    "min(tuple_7)"
   ]
  },
  {
   "cell_type": "code",
   "execution_count": 35,
   "id": "23e74d9d",
   "metadata": {},
   "outputs": [
    {
     "data": {
      "text/plain": [
       "5"
      ]
     },
     "execution_count": 35,
     "metadata": {},
     "output_type": "execute_result"
    }
   ],
   "source": [
    "max(tuple_7)"
   ]
  },
  {
   "cell_type": "code",
   "execution_count": 36,
   "id": "44deb9c7",
   "metadata": {},
   "outputs": [
    {
     "data": {
      "text/plain": [
       "15"
      ]
     },
     "execution_count": 36,
     "metadata": {},
     "output_type": "execute_result"
    }
   ],
   "source": [
    "sum(tuple_7)"
   ]
  },
  {
   "cell_type": "code",
   "execution_count": 37,
   "id": "903313e6",
   "metadata": {},
   "outputs": [
    {
     "data": {
      "text/plain": [
       "[5, 4, 3, 2, 1]"
      ]
     },
     "execution_count": 37,
     "metadata": {},
     "output_type": "execute_result"
    }
   ],
   "source": [
    "sorted(tuple_7, reverse=True)"
   ]
  }
 ],
 "metadata": {
  "kernelspec": {
   "display_name": "Python 3 (ipykernel)",
   "language": "python",
   "name": "python3"
  },
  "language_info": {
   "codemirror_mode": {
    "name": "ipython",
    "version": 3
   },
   "file_extension": ".py",
   "mimetype": "text/x-python",
   "name": "python",
   "nbconvert_exporter": "python",
   "pygments_lexer": "ipython3",
   "version": "3.11.4"
  }
 },
 "nbformat": 4,
 "nbformat_minor": 5
}
