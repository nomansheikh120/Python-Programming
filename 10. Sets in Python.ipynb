{
 "cells": [
  {
   "cell_type": "markdown",
   "id": "112b2d98",
   "metadata": {},
   "source": [
    "### Definition\n",
    "\n",
    "Sets are used to store multiple items in a single variable. A set is a collection which is unordered, and unindexed. Set items are unchangeable, but you can remove items and add new items."
   ]
  },
  {
   "cell_type": "markdown",
   "id": "c6249bcb",
   "metadata": {},
   "source": [
    "### Note: \n",
    "* Sets do not allow duplicates\n",
    "* Sets have no indexing/Slicing\n",
    "* Sets do not allow multiple data type\n",
    "* Sets itself a mutable data type"
   ]
  },
  {
   "cell_type": "markdown",
   "id": "20c64397",
   "metadata": {},
   "source": [
    "### 1. Creating Sets"
   ]
  },
  {
   "cell_type": "code",
   "execution_count": 4,
   "id": "7d830a3f",
   "metadata": {},
   "outputs": [
    {
     "data": {
      "text/plain": [
       "set"
      ]
     },
     "execution_count": 4,
     "metadata": {},
     "output_type": "execute_result"
    }
   ],
   "source": [
    "set_1 = set()\n",
    "type(set_1)"
   ]
  },
  {
   "cell_type": "code",
   "execution_count": 5,
   "id": "486b8568",
   "metadata": {},
   "outputs": [
    {
     "data": {
      "text/plain": [
       "{1, 2, 3, 4, 5}"
      ]
     },
     "execution_count": 5,
     "metadata": {},
     "output_type": "execute_result"
    }
   ],
   "source": [
    "set_2 = {1,2,3,4,5}\n",
    "set_2"
   ]
  },
  {
   "cell_type": "code",
   "execution_count": 22,
   "id": "d5c6becf",
   "metadata": {},
   "outputs": [
    {
     "data": {
      "text/plain": [
       "{50, 500000.0, 'Noman'}"
      ]
     },
     "execution_count": 22,
     "metadata": {},
     "output_type": "execute_result"
    }
   ],
   "source": [
    "set_3 = {\"Noman\", 50, 500000.0}\n",
    "set_3"
   ]
  },
  {
   "cell_type": "code",
   "execution_count": 7,
   "id": "aaf66485",
   "metadata": {},
   "outputs": [
    {
     "data": {
      "text/plain": [
       "{1, 2, 3, 4}"
      ]
     },
     "execution_count": 7,
     "metadata": {},
     "output_type": "execute_result"
    }
   ],
   "source": [
    "set_4 = {1,1,2,2,3,3,4,4}\n",
    "set_4"
   ]
  },
  {
   "cell_type": "code",
   "execution_count": 9,
   "id": "5cf38104",
   "metadata": {},
   "outputs": [],
   "source": [
    "# set_5 = {[1,1,2,2,3,3,4,4]}\n",
    "# set_5 ~ TypeError: unhashable type: 'list'"
   ]
  },
  {
   "cell_type": "code",
   "execution_count": 11,
   "id": "974b391f",
   "metadata": {},
   "outputs": [
    {
     "data": {
      "text/plain": [
       "{(1, 1, 2, 2, 3, 3, 4, 4)}"
      ]
     },
     "execution_count": 11,
     "metadata": {},
     "output_type": "execute_result"
    }
   ],
   "source": [
    "set_6 = {(1,1,2,2,3,3,4,4)}\n",
    "set_6"
   ]
  },
  {
   "cell_type": "markdown",
   "id": "02fd8174",
   "metadata": {},
   "source": [
    "### 2. Accessing/Editing Sets"
   ]
  },
  {
   "cell_type": "code",
   "execution_count": 14,
   "id": "58a09d91",
   "metadata": {},
   "outputs": [],
   "source": [
    "# set_2[0] ~ TypeError: 'set' object is not subscriptable"
   ]
  },
  {
   "cell_type": "markdown",
   "id": "c20efd71",
   "metadata": {},
   "source": [
    "### 3. Adding Sets"
   ]
  },
  {
   "cell_type": "code",
   "execution_count": 18,
   "id": "fe790931",
   "metadata": {},
   "outputs": [
    {
     "data": {
      "text/plain": [
       "{1, 2, 3, 4, 5, 6}"
      ]
     },
     "execution_count": 18,
     "metadata": {},
     "output_type": "execute_result"
    }
   ],
   "source": [
    "set_2.add(6)\n",
    "set_2"
   ]
  },
  {
   "cell_type": "markdown",
   "id": "8eaf4df2",
   "metadata": {},
   "source": [
    "### 4. Deleting Sets"
   ]
  },
  {
   "cell_type": "code",
   "execution_count": 19,
   "id": "7f27c739",
   "metadata": {},
   "outputs": [],
   "source": [
    "# del/remove/pop"
   ]
  },
  {
   "cell_type": "code",
   "execution_count": 23,
   "id": "8b18e999",
   "metadata": {},
   "outputs": [],
   "source": [
    "del set_3\n",
    "# set_3 ~ NameError: name 'set_3' is not defined"
   ]
  },
  {
   "cell_type": "code",
   "execution_count": 24,
   "id": "1c669bf5",
   "metadata": {},
   "outputs": [
    {
     "data": {
      "text/plain": [
       "{1, 2, 3, 4, 5}"
      ]
     },
     "execution_count": 24,
     "metadata": {},
     "output_type": "execute_result"
    }
   ],
   "source": [
    "set_2.remove(6)\n",
    "set_2"
   ]
  },
  {
   "cell_type": "code",
   "execution_count": 25,
   "id": "9e44a206",
   "metadata": {},
   "outputs": [
    {
     "data": {
      "text/plain": [
       "{2, 3, 4, 5}"
      ]
     },
     "execution_count": 25,
     "metadata": {},
     "output_type": "execute_result"
    }
   ],
   "source": [
    "set_2.pop()\n",
    "set_2"
   ]
  },
  {
   "cell_type": "markdown",
   "id": "179f2139",
   "metadata": {},
   "source": [
    "### 5. Operations on Sets"
   ]
  },
  {
   "cell_type": "code",
   "execution_count": 28,
   "id": "fd14826a",
   "metadata": {},
   "outputs": [],
   "source": [
    "# set_2 + set_4 ~ TypeError: unsupported operand type(s) for +: 'set' and 'set'"
   ]
  },
  {
   "cell_type": "code",
   "execution_count": 29,
   "id": "5b01732d",
   "metadata": {},
   "outputs": [
    {
     "name": "stdout",
     "output_type": "stream",
     "text": [
      "2\n",
      "3\n",
      "4\n",
      "5\n"
     ]
    }
   ],
   "source": [
    "for i in set_2:\n",
    "    print(i)"
   ]
  },
  {
   "cell_type": "code",
   "execution_count": 30,
   "id": "7331015d",
   "metadata": {},
   "outputs": [
    {
     "data": {
      "text/plain": [
       "True"
      ]
     },
     "execution_count": 30,
     "metadata": {},
     "output_type": "execute_result"
    }
   ],
   "source": [
    "3 in set_2"
   ]
  },
  {
   "cell_type": "markdown",
   "id": "36a33a4a",
   "metadata": {},
   "source": [
    "### 6. Set Functions"
   ]
  },
  {
   "cell_type": "code",
   "execution_count": 32,
   "id": "f1d618a6",
   "metadata": {},
   "outputs": [
    {
     "data": {
      "text/plain": [
       "4"
      ]
     },
     "execution_count": 32,
     "metadata": {},
     "output_type": "execute_result"
    }
   ],
   "source": [
    "len(set_2)"
   ]
  },
  {
   "cell_type": "code",
   "execution_count": 33,
   "id": "81e83372",
   "metadata": {},
   "outputs": [
    {
     "data": {
      "text/plain": [
       "2"
      ]
     },
     "execution_count": 33,
     "metadata": {},
     "output_type": "execute_result"
    }
   ],
   "source": [
    "min(set_2)"
   ]
  },
  {
   "cell_type": "code",
   "execution_count": 34,
   "id": "2d5725d1",
   "metadata": {},
   "outputs": [
    {
     "data": {
      "text/plain": [
       "5"
      ]
     },
     "execution_count": 34,
     "metadata": {},
     "output_type": "execute_result"
    }
   ],
   "source": [
    "max(set_2)"
   ]
  },
  {
   "cell_type": "code",
   "execution_count": 36,
   "id": "2ba1a3a2",
   "metadata": {},
   "outputs": [
    {
     "data": {
      "text/plain": [
       "[5, 4, 3, 2]"
      ]
     },
     "execution_count": 36,
     "metadata": {},
     "output_type": "execute_result"
    }
   ],
   "source": [
    "sorted(set_2, reverse=True)"
   ]
  },
  {
   "cell_type": "markdown",
   "id": "260e970f",
   "metadata": {},
   "source": [
    "### 7. Specific Set Functions"
   ]
  },
  {
   "cell_type": "code",
   "execution_count": 38,
   "id": "e85f3815",
   "metadata": {},
   "outputs": [
    {
     "data": {
      "text/plain": [
       "{1, 2, 3, 4, 5}"
      ]
     },
     "execution_count": 38,
     "metadata": {},
     "output_type": "execute_result"
    }
   ],
   "source": [
    "set_2.union(set_4)"
   ]
  },
  {
   "cell_type": "code",
   "execution_count": 39,
   "id": "6c3f1f80",
   "metadata": {},
   "outputs": [
    {
     "data": {
      "text/plain": [
       "{2, 3, 4}"
      ]
     },
     "execution_count": 39,
     "metadata": {},
     "output_type": "execute_result"
    }
   ],
   "source": [
    "set_2.intersection(set_4)"
   ]
  },
  {
   "cell_type": "code",
   "execution_count": 40,
   "id": "7c20f314",
   "metadata": {},
   "outputs": [
    {
     "data": {
      "text/plain": [
       "{5}"
      ]
     },
     "execution_count": 40,
     "metadata": {},
     "output_type": "execute_result"
    }
   ],
   "source": [
    "set_2.difference(set_4)"
   ]
  },
  {
   "cell_type": "code",
   "execution_count": 41,
   "id": "2bc3edfb",
   "metadata": {},
   "outputs": [
    {
     "data": {
      "text/plain": [
       "{1, 5}"
      ]
     },
     "execution_count": 41,
     "metadata": {},
     "output_type": "execute_result"
    }
   ],
   "source": [
    "set_2.symmetric_difference(set_4)"
   ]
  },
  {
   "cell_type": "code",
   "execution_count": 42,
   "id": "a33d0824",
   "metadata": {},
   "outputs": [
    {
     "data": {
      "text/plain": [
       "False"
      ]
     },
     "execution_count": 42,
     "metadata": {},
     "output_type": "execute_result"
    }
   ],
   "source": [
    "set_2.isdisjoint(set_4)"
   ]
  },
  {
   "cell_type": "code",
   "execution_count": 43,
   "id": "fcd7f384",
   "metadata": {},
   "outputs": [
    {
     "data": {
      "text/plain": [
       "False"
      ]
     },
     "execution_count": 43,
     "metadata": {},
     "output_type": "execute_result"
    }
   ],
   "source": [
    "set_2.issubset(set_4)"
   ]
  },
  {
   "cell_type": "code",
   "execution_count": 44,
   "id": "bab6222d",
   "metadata": {},
   "outputs": [
    {
     "data": {
      "text/plain": [
       "False"
      ]
     },
     "execution_count": 44,
     "metadata": {},
     "output_type": "execute_result"
    }
   ],
   "source": [
    "set_2.issuperset(set_4)"
   ]
  }
 ],
 "metadata": {
  "kernelspec": {
   "display_name": "Python 3 (ipykernel)",
   "language": "python",
   "name": "python3"
  },
  "language_info": {
   "codemirror_mode": {
    "name": "ipython",
    "version": 3
   },
   "file_extension": ".py",
   "mimetype": "text/x-python",
   "name": "python",
   "nbconvert_exporter": "python",
   "pygments_lexer": "ipython3",
   "version": "3.11.3"
  }
 },
 "nbformat": 4,
 "nbformat_minor": 5
}
