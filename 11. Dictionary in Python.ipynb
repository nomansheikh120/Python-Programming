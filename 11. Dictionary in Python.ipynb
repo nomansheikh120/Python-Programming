{
 "cells": [
  {
   "cell_type": "markdown",
   "id": "112b2d98",
   "metadata": {},
   "source": [
    "### Definition\n",
    "\n",
    "Dictionary is a mutable data structure that allows you to store key-value pairs. It can be created using the dict() constructor or curly braces {}. Once you have created a dictionary, you can add, remove, or update elements using the methods dict."
   ]
  },
  {
   "cell_type": "markdown",
   "id": "c6249bcb",
   "metadata": {},
   "source": [
    "### Rules: \n",
    "* Dictionary has no indexing.\n",
    "* Dictionary is a mutable types.\n",
    "* Keys are immutable, Values can be mutable.\n",
    "* Keys should be unique."
   ]
  },
  {
   "cell_type": "markdown",
   "id": "20c64397",
   "metadata": {},
   "source": [
    "### 1. Creating Dictionary"
   ]
  },
  {
   "cell_type": "code",
   "execution_count": 1,
   "id": "7d830a3f",
   "metadata": {},
   "outputs": [
    {
     "data": {
      "text/plain": [
       "{}"
      ]
     },
     "execution_count": 1,
     "metadata": {},
     "output_type": "execute_result"
    }
   ],
   "source": [
    "dict_1 = {}\n",
    "dict_1"
   ]
  },
  {
   "cell_type": "code",
   "execution_count": 2,
   "id": "486b8568",
   "metadata": {},
   "outputs": [
    {
     "data": {
      "text/plain": [
       "{'Name': 'Noman', 'Age': 25, 'Salary': 25000.0}"
      ]
     },
     "execution_count": 2,
     "metadata": {},
     "output_type": "execute_result"
    }
   ],
   "source": [
    "dict_2 = {\"Name\": \"Noman\", \"Age\": 25, \"Salary\": 25000.0}\n",
    "dict_2"
   ]
  },
  {
   "cell_type": "code",
   "execution_count": 3,
   "id": "aaf66485",
   "metadata": {},
   "outputs": [
    {
     "data": {
      "text/plain": [
       "{'Name': 'Noman'}"
      ]
     },
     "execution_count": 3,
     "metadata": {},
     "output_type": "execute_result"
    }
   ],
   "source": [
    "dict_3 = {\"Name\": \"Ali\", \"Name\": \"Noman\"}\n",
    "dict_3"
   ]
  },
  {
   "cell_type": "markdown",
   "id": "bd737d08",
   "metadata": {},
   "source": [
    "### 2. Creating 2D Dictionary"
   ]
  },
  {
   "cell_type": "code",
   "execution_count": 4,
   "id": "974b391f",
   "metadata": {},
   "outputs": [
    {
     "data": {
      "text/plain": [
       "{'Name': 'Noman', 'Address': {'Address1': 'Gulshan', 'Address2': 'Johar'}}"
      ]
     },
     "execution_count": 4,
     "metadata": {},
     "output_type": "execute_result"
    }
   ],
   "source": [
    "dict_4 = {\"Name\": \"Noman\", \"Address\": {\"Address1\": \"Gulshan\",\"Address2\": \"Johar\" }}\n",
    "dict_4"
   ]
  },
  {
   "cell_type": "markdown",
   "id": "02fd8174",
   "metadata": {},
   "source": [
    "### 3. Accessing Items from Dictionary"
   ]
  },
  {
   "cell_type": "code",
   "execution_count": 5,
   "id": "58a09d91",
   "metadata": {},
   "outputs": [
    {
     "data": {
      "text/plain": [
       "'Noman'"
      ]
     },
     "execution_count": 5,
     "metadata": {},
     "output_type": "execute_result"
    }
   ],
   "source": [
    "dict_2[\"Name\"]"
   ]
  },
  {
   "cell_type": "code",
   "execution_count": 6,
   "id": "0748aceb",
   "metadata": {},
   "outputs": [
    {
     "data": {
      "text/plain": [
       "'Gulshan'"
      ]
     },
     "execution_count": 6,
     "metadata": {},
     "output_type": "execute_result"
    }
   ],
   "source": [
    "dict_4[\"Address\"][\"Address1\"]"
   ]
  },
  {
   "cell_type": "markdown",
   "id": "c20efd71",
   "metadata": {},
   "source": [
    "### 4. Edit a Dictionary"
   ]
  },
  {
   "cell_type": "code",
   "execution_count": 7,
   "id": "fe790931",
   "metadata": {},
   "outputs": [
    {
     "data": {
      "text/plain": [
       "{'Name': 'Noman Sheikh', 'Age': 25, 'Salary': 25000.0}"
      ]
     },
     "execution_count": 7,
     "metadata": {},
     "output_type": "execute_result"
    }
   ],
   "source": [
    "dict_2[\"Name\"] = \"Noman Sheikh\"\n",
    "dict_2"
   ]
  },
  {
   "cell_type": "code",
   "execution_count": 8,
   "id": "cefbb310",
   "metadata": {},
   "outputs": [
    {
     "data": {
      "text/plain": [
       "'Noman Sheikh'"
      ]
     },
     "execution_count": 8,
     "metadata": {},
     "output_type": "execute_result"
    }
   ],
   "source": [
    "dict_2.get(\"Name\")"
   ]
  },
  {
   "cell_type": "markdown",
   "id": "8eaf4df2",
   "metadata": {},
   "source": [
    "### 5. Adding Key Value Pair in Dictionary"
   ]
  },
  {
   "cell_type": "code",
   "execution_count": 9,
   "id": "7f27c739",
   "metadata": {},
   "outputs": [
    {
     "data": {
      "text/plain": [
       "{'Name': 'Noman Sheikh', 'Age': 25, 'Salary': 25000.0, 'Address': 'Gulshan'}"
      ]
     },
     "execution_count": 9,
     "metadata": {},
     "output_type": "execute_result"
    }
   ],
   "source": [
    "dict_2[\"Address\"] = \"Gulshan\"\n",
    "dict_2"
   ]
  },
  {
   "cell_type": "markdown",
   "id": "737fe362",
   "metadata": {},
   "source": [
    "### 6. Deleting Dicionary/Key value Pair"
   ]
  },
  {
   "cell_type": "code",
   "execution_count": 10,
   "id": "f748b6d8",
   "metadata": {},
   "outputs": [],
   "source": [
    "del dict_1\n",
    "# dict_1 ~ NameError: name 'dict_1' is not defined"
   ]
  },
  {
   "cell_type": "code",
   "execution_count": 11,
   "id": "6cb55c6a",
   "metadata": {},
   "outputs": [
    {
     "data": {
      "text/plain": [
       "{'Name': 'Noman Sheikh', 'Age': 25, 'Salary': 25000.0}"
      ]
     },
     "execution_count": 11,
     "metadata": {},
     "output_type": "execute_result"
    }
   ],
   "source": [
    "del dict_2['Address']\n",
    "dict_2"
   ]
  },
  {
   "cell_type": "code",
   "execution_count": 12,
   "id": "349fde34",
   "metadata": {},
   "outputs": [
    {
     "data": {
      "text/plain": [
       "{}"
      ]
     },
     "execution_count": 12,
     "metadata": {},
     "output_type": "execute_result"
    }
   ],
   "source": [
    "dict_2.clear()\n",
    "dict_2"
   ]
  },
  {
   "cell_type": "markdown",
   "id": "179f2139",
   "metadata": {},
   "source": [
    "### 7. Operations in Dictionary"
   ]
  },
  {
   "cell_type": "code",
   "execution_count": 13,
   "id": "5b01732d",
   "metadata": {},
   "outputs": [
    {
     "name": "stdout",
     "output_type": "stream",
     "text": [
      "Name\n",
      "Address\n"
     ]
    }
   ],
   "source": [
    "for i in dict_4:\n",
    "    print(i)"
   ]
  },
  {
   "cell_type": "code",
   "execution_count": 14,
   "id": "7331015d",
   "metadata": {},
   "outputs": [
    {
     "name": "stdout",
     "output_type": "stream",
     "text": [
      "Name Noman\n",
      "Address {'Address1': 'Gulshan', 'Address2': 'Johar'}\n"
     ]
    }
   ],
   "source": [
    "for i in dict_4:\n",
    "    print(i, dict_4[i])"
   ]
  },
  {
   "cell_type": "code",
   "execution_count": 15,
   "id": "7817567b",
   "metadata": {},
   "outputs": [
    {
     "data": {
      "text/plain": [
       "False"
      ]
     },
     "execution_count": 15,
     "metadata": {},
     "output_type": "execute_result"
    }
   ],
   "source": [
    "\"Noman\" in dict_3"
   ]
  },
  {
   "cell_type": "code",
   "execution_count": 16,
   "id": "75c68c81",
   "metadata": {},
   "outputs": [
    {
     "data": {
      "text/plain": [
       "True"
      ]
     },
     "execution_count": 16,
     "metadata": {},
     "output_type": "execute_result"
    }
   ],
   "source": [
    "\"Name\" in dict_3"
   ]
  },
  {
   "cell_type": "markdown",
   "id": "36a33a4a",
   "metadata": {},
   "source": [
    "### 8. Set Functions"
   ]
  },
  {
   "cell_type": "code",
   "execution_count": 17,
   "id": "f1d618a6",
   "metadata": {},
   "outputs": [
    {
     "data": {
      "text/plain": [
       "1"
      ]
     },
     "execution_count": 17,
     "metadata": {},
     "output_type": "execute_result"
    }
   ],
   "source": [
    "len(dict_3)"
   ]
  },
  {
   "cell_type": "code",
   "execution_count": 18,
   "id": "81e83372",
   "metadata": {},
   "outputs": [
    {
     "data": {
      "text/plain": [
       "'Name'"
      ]
     },
     "execution_count": 18,
     "metadata": {},
     "output_type": "execute_result"
    }
   ],
   "source": [
    "min(dict_3)"
   ]
  },
  {
   "cell_type": "code",
   "execution_count": 19,
   "id": "2d5725d1",
   "metadata": {},
   "outputs": [
    {
     "data": {
      "text/plain": [
       "'Name'"
      ]
     },
     "execution_count": 19,
     "metadata": {},
     "output_type": "execute_result"
    }
   ],
   "source": [
    "max(dict_3)"
   ]
  },
  {
   "cell_type": "code",
   "execution_count": 20,
   "id": "2ba1a3a2",
   "metadata": {},
   "outputs": [
    {
     "data": {
      "text/plain": [
       "['Name']"
      ]
     },
     "execution_count": 20,
     "metadata": {},
     "output_type": "execute_result"
    }
   ],
   "source": [
    "sorted(dict_3, reverse=True)"
   ]
  },
  {
   "cell_type": "markdown",
   "id": "260e970f",
   "metadata": {},
   "source": [
    "### 7. Specific Set Functions"
   ]
  },
  {
   "cell_type": "code",
   "execution_count": 21,
   "id": "e85f3815",
   "metadata": {},
   "outputs": [
    {
     "data": {
      "text/plain": [
       "dict_keys(['Name'])"
      ]
     },
     "execution_count": 21,
     "metadata": {},
     "output_type": "execute_result"
    }
   ],
   "source": [
    "dict_3.keys()"
   ]
  },
  {
   "cell_type": "code",
   "execution_count": 22,
   "id": "6c3f1f80",
   "metadata": {},
   "outputs": [
    {
     "data": {
      "text/plain": [
       "dict_values(['Noman'])"
      ]
     },
     "execution_count": 22,
     "metadata": {},
     "output_type": "execute_result"
    }
   ],
   "source": [
    "dict_3.values()"
   ]
  }
 ],
 "metadata": {
  "kernelspec": {
   "display_name": "Python 3 (ipykernel)",
   "language": "python",
   "name": "python3"
  },
  "language_info": {
   "codemirror_mode": {
    "name": "ipython",
    "version": 3
   },
   "file_extension": ".py",
   "mimetype": "text/x-python",
   "name": "python",
   "nbconvert_exporter": "python",
   "pygments_lexer": "ipython3",
   "version": "3.11.3"
  }
 },
 "nbformat": 4,
 "nbformat_minor": 5
}
