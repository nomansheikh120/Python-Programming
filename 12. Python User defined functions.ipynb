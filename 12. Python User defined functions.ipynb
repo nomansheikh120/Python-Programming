{
 "cells": [
  {
   "cell_type": "markdown",
   "id": "112b2d98",
   "metadata": {},
   "source": [
    "### Definition\n",
    "\n",
    "A function is a set of statements that take inputs, do some specific computation, and produce output. The idea is to put some commonly or repeatedly done tasks together and make a function so that instead of writing the same code again and again for different inputs, we can call the function."
   ]
  },
  {
   "cell_type": "markdown",
   "id": "c6249bcb",
   "metadata": {},
   "source": [
    "### Python User-defined functions: \n",
    "* In Python, a `def` keyword is used to declare user-defined functions.\n",
    "* Python `docstrings` are the string literals that appear right after the definition of a function, method, class, or module.\n",
    "* An indented block of statements follows the `function name` and `arguments` which contains the body of the function. "
   ]
  },
  {
   "cell_type": "markdown",
   "id": "20c64397",
   "metadata": {},
   "source": [
    "### 1. Creating Function"
   ]
  },
  {
   "cell_type": "code",
   "execution_count": 1,
   "id": "7d830a3f",
   "metadata": {},
   "outputs": [],
   "source": [
    "def is_even(num):\n",
    "    \"\"\"\n",
    "    This function tells if a given numner is odd or even.\n",
    "    Input any valid integer\n",
    "    Output - odd/even\n",
    "    Created By - Noman\n",
    "    Last Edited - 1st Nov 2023\n",
    "    \"\"\"\n",
    "    if num % 2 == 0:\n",
    "        return 'Even'\n",
    "    else:\n",
    "        return 'Odd'"
   ]
  },
  {
   "cell_type": "code",
   "execution_count": 2,
   "id": "c72f036e",
   "metadata": {},
   "outputs": [
    {
     "name": "stdout",
     "output_type": "stream",
     "text": [
      "Odd\n",
      "Even\n",
      "Odd\n",
      "Even\n"
     ]
    }
   ],
   "source": [
    "for i in range(1,5):\n",
    "    print(is_even(i))"
   ]
  },
  {
   "cell_type": "code",
   "execution_count": 3,
   "id": "11a87cdf",
   "metadata": {},
   "outputs": [
    {
     "name": "stdout",
     "output_type": "stream",
     "text": [
      "\n",
      "    This function tells if a given numner is odd or even.\n",
      "    Input any valid integer\n",
      "    Output - odd/even\n",
      "    Created By - Noman\n",
      "    Last Edited - 1st Nov 2023\n",
      "    \n"
     ]
    }
   ],
   "source": [
    "print(is_even.__doc__)"
   ]
  },
  {
   "cell_type": "markdown",
   "id": "405709b1",
   "metadata": {},
   "source": [
    "### 2. Parameters"
   ]
  },
  {
   "cell_type": "code",
   "execution_count": 4,
   "id": "34982ae9",
   "metadata": {},
   "outputs": [],
   "source": [
    "def power(a=1,b=1):\n",
    "    return a**b"
   ]
  },
  {
   "cell_type": "markdown",
   "id": "b9f37c89",
   "metadata": {},
   "source": [
    "### 3. Arguments"
   ]
  },
  {
   "cell_type": "code",
   "execution_count": 5,
   "id": "a356dff0",
   "metadata": {},
   "outputs": [
    {
     "data": {
      "text/plain": [
       "1"
      ]
     },
     "execution_count": 5,
     "metadata": {},
     "output_type": "execute_result"
    }
   ],
   "source": [
    "# 1. Default Argument\n",
    "power()"
   ]
  },
  {
   "cell_type": "code",
   "execution_count": 6,
   "id": "83025977",
   "metadata": {},
   "outputs": [
    {
     "data": {
      "text/plain": [
       "8"
      ]
     },
     "execution_count": 6,
     "metadata": {},
     "output_type": "execute_result"
    }
   ],
   "source": [
    "# 2. Positional Argument\n",
    "power(2,3)"
   ]
  },
  {
   "cell_type": "code",
   "execution_count": 7,
   "id": "b8d3542b",
   "metadata": {},
   "outputs": [
    {
     "data": {
      "text/plain": [
       "9"
      ]
     },
     "execution_count": 7,
     "metadata": {},
     "output_type": "execute_result"
    }
   ],
   "source": [
    "# 3. Keyword Argument\n",
    "power(b=2,a=3)"
   ]
  },
  {
   "cell_type": "code",
   "execution_count": 8,
   "id": "4f2324c3",
   "metadata": {},
   "outputs": [],
   "source": [
    "def flexible_input_product(*num):\n",
    "    product = 1\n",
    "    for i in num:\n",
    "        product = i * product\n",
    "    return product"
   ]
  },
  {
   "cell_type": "code",
   "execution_count": 9,
   "id": "0be5f3b5",
   "metadata": {},
   "outputs": [
    {
     "data": {
      "text/plain": [
       "6"
      ]
     },
     "execution_count": 9,
     "metadata": {},
     "output_type": "execute_result"
    }
   ],
   "source": [
    "# 4. Arbitary Argument\n",
    "flexible_input_product(1,2,3)"
   ]
  },
  {
   "cell_type": "markdown",
   "id": "baa900f8",
   "metadata": {},
   "source": [
    "### Tricky Example 1:"
   ]
  },
  {
   "cell_type": "code",
   "execution_count": 10,
   "id": "4bb9b13c",
   "metadata": {},
   "outputs": [],
   "source": [
    "def func_1(y):\n",
    "    x = 1 # local Variable\n",
    "    print(x)"
   ]
  },
  {
   "cell_type": "code",
   "execution_count": 11,
   "id": "0470b89f",
   "metadata": {},
   "outputs": [
    {
     "name": "stdout",
     "output_type": "stream",
     "text": [
      "1\n",
      "5\n"
     ]
    }
   ],
   "source": [
    "x = 5 # GLobal Variable\n",
    "func_1(x)\n",
    "print(x)"
   ]
  },
  {
   "cell_type": "markdown",
   "id": "2e648e37",
   "metadata": {},
   "source": [
    "### Tricky Example 2:"
   ]
  },
  {
   "cell_type": "code",
   "execution_count": 12,
   "id": "fa04e747",
   "metadata": {},
   "outputs": [],
   "source": [
    "def func_2(y):\n",
    "    print(x+1)"
   ]
  },
  {
   "cell_type": "code",
   "execution_count": 13,
   "id": "e1e0a884",
   "metadata": {},
   "outputs": [
    {
     "name": "stdout",
     "output_type": "stream",
     "text": [
      "6\n",
      "5\n"
     ]
    }
   ],
   "source": [
    "x = 5 # GLobal Variable\n",
    "func_2(x)\n",
    "print(x)"
   ]
  },
  {
   "cell_type": "markdown",
   "id": "d2034e95",
   "metadata": {},
   "source": [
    "### Tricky Example 3:"
   ]
  },
  {
   "cell_type": "code",
   "execution_count": 14,
   "id": "c691b491",
   "metadata": {},
   "outputs": [],
   "source": [
    "def func_3(y):\n",
    "    x += 1"
   ]
  },
  {
   "cell_type": "code",
   "execution_count": 15,
   "id": "3b45361a",
   "metadata": {},
   "outputs": [],
   "source": [
    "# x = 5\n",
    "# func_3(x)\n",
    "# print(x)\n",
    "\n",
    "# cannot access local variable 'x' where it is not associated with a value\n",
    "# trick (global x)"
   ]
  },
  {
   "cell_type": "markdown",
   "id": "8471f718",
   "metadata": {},
   "source": [
    "### Tricky Examply 4:"
   ]
  },
  {
   "cell_type": "code",
   "execution_count": 16,
   "id": "e0eb0318",
   "metadata": {},
   "outputs": [],
   "source": [
    "# Nested Program is always hidden\n",
    "def func_4():\n",
    "    print(\"Hello\")\n",
    "    def func_5():\n",
    "        print(\"World\")\n",
    "    func_5()"
   ]
  },
  {
   "cell_type": "code",
   "execution_count": 17,
   "id": "185015a8",
   "metadata": {},
   "outputs": [
    {
     "name": "stdout",
     "output_type": "stream",
     "text": [
      "Hello\n",
      "World\n"
     ]
    }
   ],
   "source": [
    "func_4()"
   ]
  },
  {
   "cell_type": "code",
   "execution_count": 18,
   "id": "bdca751e",
   "metadata": {},
   "outputs": [],
   "source": [
    "# func_5() \n",
    "\n",
    "# name 'func_5' is not defined"
   ]
  },
  {
   "cell_type": "markdown",
   "id": "a69fbb04",
   "metadata": {},
   "source": [
    "### Tricky Examply 5:"
   ]
  },
  {
   "cell_type": "code",
   "execution_count": 19,
   "id": "88e46693",
   "metadata": {},
   "outputs": [],
   "source": [
    "# Nested Program is always hidden\n",
    "def func_4():\n",
    "    print(\"Hello\")\n",
    "    def func_5():\n",
    "        print(\"World\")\n",
    "        func_4()\n",
    "    func_5()"
   ]
  },
  {
   "cell_type": "code",
   "execution_count": 20,
   "id": "1a608ac5",
   "metadata": {},
   "outputs": [],
   "source": [
    "# func_4()\n",
    "\n",
    "# RecursionError: maximum recursion depth exceeded while calling a Python object"
   ]
  },
  {
   "cell_type": "markdown",
   "id": "ff45bde2",
   "metadata": {},
   "source": [
    "### 4. Functions as Objects"
   ]
  },
  {
   "cell_type": "code",
   "execution_count": 21,
   "id": "7f6d3087",
   "metadata": {},
   "outputs": [],
   "source": [
    "def func_6(num):\n",
    "    return num ** 2"
   ]
  },
  {
   "cell_type": "code",
   "execution_count": 22,
   "id": "b8550abd",
   "metadata": {},
   "outputs": [
    {
     "data": {
      "text/plain": [
       "4"
      ]
     },
     "execution_count": 22,
     "metadata": {},
     "output_type": "execute_result"
    }
   ],
   "source": [
    "func_6(2)"
   ]
  },
  {
   "cell_type": "code",
   "execution_count": 23,
   "id": "fd65638d",
   "metadata": {},
   "outputs": [],
   "source": [
    "a = func_6"
   ]
  },
  {
   "cell_type": "code",
   "execution_count": 24,
   "id": "16fb2794",
   "metadata": {},
   "outputs": [
    {
     "data": {
      "text/plain": [
       "9"
      ]
     },
     "execution_count": 24,
     "metadata": {},
     "output_type": "execute_result"
    }
   ],
   "source": [
    "a(3)"
   ]
  },
  {
   "cell_type": "markdown",
   "id": "81f0e237",
   "metadata": {},
   "source": [
    "### 5. Deleting a Function"
   ]
  },
  {
   "cell_type": "code",
   "execution_count": 25,
   "id": "7477292c",
   "metadata": {},
   "outputs": [],
   "source": [
    "del a"
   ]
  },
  {
   "cell_type": "markdown",
   "id": "1ed78178",
   "metadata": {},
   "source": [
    "###### Benifits of using a Function\n",
    "\n",
    "* Every code is self-contained and used to break up the entire logic into piece - Code Modularity\n",
    "* Works on the philosophy of write once use forever - Code Reusability\n",
    "* Code is organized and coherent - Code Readability"
   ]
  }
 ],
 "metadata": {
  "kernelspec": {
   "display_name": "Python 3 (ipykernel)",
   "language": "python",
   "name": "python3"
  },
  "language_info": {
   "codemirror_mode": {
    "name": "ipython",
    "version": 3
   },
   "file_extension": ".py",
   "mimetype": "text/x-python",
   "name": "python",
   "nbconvert_exporter": "python",
   "pygments_lexer": "ipython3",
   "version": "3.11.4"
  }
 },
 "nbformat": 4,
 "nbformat_minor": 5
}
